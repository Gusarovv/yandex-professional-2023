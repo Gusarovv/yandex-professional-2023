{
 "cells": [
  {
   "attachments": {},
   "cell_type": "markdown",
   "metadata": {},
   "source": [
    "## Задание №10"
   ]
  },
  {
   "attachments": {},
   "cell_type": "markdown",
   "metadata": {},
   "source": [
    "Бинаризовать нейронную сеть, используя предоставленный классы `ParabolaSignApproximator` и `STESignApproximator`. Доступен `torch==1.5.1`"
   ]
  },
  {
   "cell_type": "code",
   "execution_count": 1,
   "metadata": {},
   "outputs": [],
   "source": [
    "import torch\n",
    "import numpy as np\n",
    "import torch.nn as nn\n",
    "import torch.nn.functional as F\n",
    "import sys"
   ]
  },
  {
   "cell_type": "code",
   "execution_count": 2,
   "metadata": {},
   "outputs": [],
   "source": [
    "class ParabolaSignApproximator(torch.autograd.Function):\n",
    "    @staticmethod\n",
    "    def forward(ctx, x):\n",
    "        ctx.save_for_backward(x)\n",
    "        values = x.detach().numpy()\n",
    "        return x.new(np.where(values < 0, -1, 1))\n",
    "\n",
    "    @staticmethod\n",
    "    def backward(ctx, grad_output):\n",
    "\n",
    "        x = ctx.saved_tensors[0].detach().numpy()\n",
    "        grads = grad_output.detach().numpy()\n",
    "\n",
    "        grad_input = np.zeros_like(grad_output)\n",
    "        mask = (-1 <= x) & (x < 0)\n",
    "        grad_input[mask] = grads[mask] * (2 * x[mask] + 2)\n",
    "\n",
    "        mask = (0 <= x) & (x < 1)\n",
    "        grad_input[mask] = grads[mask] * (-2 * x[mask] + 2)\n",
    "        return grad_output.new(grad_input)\n",
    "\n",
    "\n",
    "class STESignApproximator(torch.autograd.Function):\n",
    "    @staticmethod\n",
    "    def forward(ctx, x):\n",
    "        values = x.detach().numpy()\n",
    "        return x.new(np.where(values < 0, -1, 1))\n",
    "\n",
    "    @staticmethod\n",
    "    def backward(ctx, grad_output):\n",
    "        return grad_output"
   ]
  },
  {
   "cell_type": "code",
   "execution_count": 3,
   "metadata": {},
   "outputs": [],
   "source": [
    "tensor_shape = (int(input()), int(input()))\n",
    "X = [list(map(float, input().split())) for x_str in range(tensor_shape[0])]\n",
    "feats_out, feats_in = (int(input()), int(input()))\n",
    "W = [list(map(float, input().split())) for feats_str in range(feats_out)]\n",
    "y = np.zeros((tensor_shape[0], feats_out))\n",
    "\n",
    "X = torch.tensor(X)\n",
    "W = torch.tensor(W)\n",
    "y = torch.tensor(y)"
   ]
  },
  {
   "cell_type": "code",
   "execution_count": 5,
   "metadata": {},
   "outputs": [],
   "source": [
    "def approximate_sign(input_data, weights, output_shape):\n",
    "    ste_sign = STESignApproximator.apply\n",
    "    parabolic_sign = ParabolaSignApproximator.apply\n",
    "\n",
    "    input_data = torch.clone(input_data).requires_grad_(True)\n",
    "    weights = nn.Parameter(data=weights, requires_grad=True)\n",
    "\n",
    "    binary_weights = ste_sign(weights)\n",
    "    binary_input_data = parabolic_sign(input_data)\n",
    "\n",
    "    outputs = F.linear(binary_input_data, binary_weights, None)\n",
    "    torch.sum(outputs).backward()\n",
    "\n",
    "    return input_data, weights\n",
    "\n",
    "inputs, weights = approximate_sign(X, W, y)"
   ]
  },
  {
   "cell_type": "code",
   "execution_count": 6,
   "metadata": {},
   "outputs": [
    {
     "name": "stdout",
     "output_type": "stream",
     "text": [
      "4.8456 -0.5448 -2.2704\n",
      "4.6236 -1.7770 0.0000\n",
      "0.0000 -0.8076 -3.8202\n",
      "3.1506 0.0000 0.0000\n",
      "-4.0000 0.0000 -2.0000\n",
      "-4.0000 0.0000 -2.0000\n",
      "-4.0000 0.0000 -2.0000\n",
      "-4.0000 0.0000 -2.0000\n",
      "-4.0000 0.0000 -2.0000\n"
     ]
    }
   ],
   "source": [
    "def print_gradient(tensor):\n",
    "    np.savetxt(sys.stdout, tensor.grad.numpy(), fmt='%.04f')\n",
    "\n",
    "print_gradient(inputs)\n",
    "print_gradient(weights)"
   ]
  }
 ],
 "metadata": {
  "kernelspec": {
   "display_name": "Python 3",
   "language": "python",
   "name": "python3"
  },
  "language_info": {
   "codemirror_mode": {
    "name": "ipython",
    "version": 3
   },
   "file_extension": ".py",
   "mimetype": "text/x-python",
   "name": "python",
   "nbconvert_exporter": "python",
   "pygments_lexer": "ipython3",
   "version": "3.11.5"
  },
  "orig_nbformat": 4
 },
 "nbformat": 4,
 "nbformat_minor": 2
}
