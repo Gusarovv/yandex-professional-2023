{
 "cells": [
  {
   "attachments": {},
   "cell_type": "markdown",
   "metadata": {},
   "source": [
    "## Задание №11"
   ]
  },
  {
   "attachments": {},
   "cell_type": "markdown",
   "metadata": {},
   "source": [
    "Ваш знакомый Вася решил создать стартап и привлечь инвестиции. Для этого он хочет разместить информацию о своем стартапе на Producthunt — платформе, где создатели размещают информацию о своих стартапах, а пользователи за эти стартапы голосуют. Вася хочет, чтобы как можно больше пользователей проголосовали за его стартап. Поэтому он хочет понять, какие факторы влияют на то, сколько голосов получит та или иная идея на Producthunt. Для этого Вася попросил вас создать модель машинного обучения, которая по информации на странице стартапа предсказывала бы, сколько голосов этот стартап получит.\n",
    "\n",
    "**Формат ввода**\n",
    "\n",
    "Данные доступны по ссылке [https://disk.yandex.ru/d/RKfUnpuddXZ0vg](https://disk.yandex.ru/d/RKfUnpuddXZ0vg). Вам дана обучающая выборка `producthunt_train.csv` с информацией о стартапах. Целевая переменная `votesCount` содержит количество голосов, которое этот стартап получил.\n",
    "\n",
    "**Формат вывода**\n",
    "\n",
    "Вам необходимо для всех строк из тестовой выборки `producthunt_test.csv` предсказать количество голосов, которое получит соответствующий стартап. Файл `sample_submission.csv` содержит требуемый формат сдачи.\n",
    "\n",
    "**Примечания**\n",
    "\n",
    "Оценка решения будет производиться по метрике $R^2$ (коэффициент детерминации). Итоговый балл будет ставиться по формуле $\\min(10, \\max(0, score \\cdot 20))$, где $score$ — значение метрики."
   ]
  },
  {
   "cell_type": "code",
   "execution_count": 22,
   "metadata": {},
   "outputs": [],
   "source": [
    "import pandas as pd\n",
    "import numpy as np\n",
    "from sklearn.preprocessing import LabelEncoder"
   ]
  },
  {
   "cell_type": "code",
   "execution_count": 23,
   "metadata": {},
   "outputs": [],
   "source": [
    "cols_to_encode = ['slug', 'name', 'tagline', 'topics', 'dateAdded', 'timeAdded']\n",
    "def encode_data(train_data: pd.DataFrame, test_data: pd.DataFrame, cols_to_encode: list):\n",
    "    le = LabelEncoder()\n",
    "    \n",
    "    for col in cols_to_encode:\n",
    "        train_data[col] = le.fit_transform(train_data[col])\n",
    "        test_data[col] = le.fit_transform(test_data[col])\n",
    "        \n",
    "    return train_data, test_data\n",
    "\n",
    "def split_data(train_data: pd.DataFrame, target_column: str):\n",
    "    X_train = train_data.drop(columns=[target_column])\n",
    "    Y_train = train_data[target_column]\n",
    "    return X_train, Y_train\n",
    "\n",
    "train_data = pd.read_csv('producthunt_train.csv')\n",
    "test_data = pd.read_csv('producthunt_test.csv')\n",
    "\n",
    "train_data, test_data = encode_data(train_data, test_data, cols_to_encode)\n",
    "\n",
    "X_train, Y_train = split_data(train_data, 'votesCount')"
   ]
  },
  {
   "attachments": {},
   "cell_type": "markdown",
   "metadata": {},
   "source": [
    "### LinearRegression (R^2=0.283)"
   ]
  },
  {
   "cell_type": "code",
   "execution_count": 25,
   "metadata": {},
   "outputs": [
    {
     "name": "stdout",
     "output_type": "stream",
     "text": [
      "Средний R^2-коэффициент на кросс-валидации: 0.2831062591230047\n"
     ]
    }
   ],
   "source": [
    "from sklearn.linear_model import LinearRegression\n",
    "\n",
    "model = LinearRegression()\n",
    "\n",
    "model.fit(X_train, Y_train)\n",
    "\n",
    "from sklearn.model_selection import cross_val_score\n",
    "\n",
    "scores = cross_val_score(model, X_train, Y_train, cv=5, scoring='r2')\n",
    "average_score = scores.mean()\n",
    "\n",
    "print(f\"Средний R^2-коэффициент на кросс-валидации: {average_score}\")"
   ]
  },
  {
   "attachments": {},
   "cell_type": "markdown",
   "metadata": {},
   "source": [
    "### XGBRegressor (R^2=0.465)"
   ]
  },
  {
   "cell_type": "code",
   "execution_count": 26,
   "metadata": {},
   "outputs": [
    {
     "name": "stdout",
     "output_type": "stream",
     "text": [
      "Средний R^2-коэффициент на кросс-валидации: 0.4657581679510642\n"
     ]
    }
   ],
   "source": [
    "# Бустинг\n",
    "import xgboost as xgb\n",
    "\n",
    "model = xgb.XGBRegressor(objective ='reg:squarederror', n_estimators = 350)\n",
    "model.fit(X_train, Y_train)\n",
    "\n",
    "scores = cross_val_score(model, X_train, Y_train, cv=5, scoring='r2')\n",
    "average_score = scores.mean()\n",
    "\n",
    "print(f\"Средний R^2-коэффициент на кросс-валидации: {average_score}\")"
   ]
  },
  {
   "attachments": {},
   "cell_type": "markdown",
   "metadata": {},
   "source": [
    "### XGBRFRegressor (R^2=0.483)"
   ]
  },
  {
   "cell_type": "code",
   "execution_count": 27,
   "metadata": {},
   "outputs": [
    {
     "name": "stdout",
     "output_type": "stream",
     "text": [
      "Средний R^2-коэффициент на кросс-валидации: 0.48300497199613074\n"
     ]
    }
   ],
   "source": [
    "from sklearn.model_selection import GridSearchCV\n",
    "\n",
    "model = xgb.XGBRFRegressor(objective='reg:squarederror', learning_rate=1)\n",
    "cvParams = {\n",
    "    'n_estimators': np.linspace(10, 500, 100, dtype=int),\n",
    "}\n",
    "cv = GridSearchCV(model, cvParams, n_jobs=16, cv=5)\n",
    "cv.fit(X_train, Y_train)\n",
    "model = cv.best_estimator_\n",
    "\n",
    "scores = cross_val_score(model, X_train, Y_train, cv=5, scoring='r2')\n",
    "average_score = scores.mean()\n",
    "print(f\"Средний R^2-коэффициент на кросс-валидации: {average_score}\")"
   ]
  },
  {
   "attachments": {},
   "cell_type": "markdown",
   "metadata": {},
   "source": [
    "### LGBMRegressor (R^2=0.514)"
   ]
  },
  {
   "cell_type": "code",
   "execution_count": 28,
   "metadata": {},
   "outputs": [
    {
     "name": "stdout",
     "output_type": "stream",
     "text": [
      "[LightGBM] [Info] Auto-choosing col-wise multi-threading, the overhead of testing was 0.001247 seconds.\n",
      "You can set `force_col_wise=true` to remove the overhead.\n",
      "[LightGBM] [Info] Total Bins 2040\n",
      "[LightGBM] [Info] Number of data points in the train set: 56702, number of used features: 8\n",
      "[LightGBM] [Info] Start training from score 287.430902\n",
      "[LightGBM] [Info] Auto-choosing col-wise multi-threading, the overhead of testing was 0.000827 seconds.\n",
      "You can set `force_col_wise=true` to remove the overhead.\n",
      "[LightGBM] [Info] Total Bins 2040\n",
      "[LightGBM] [Info] Number of data points in the train set: 45361, number of used features: 8\n",
      "[LightGBM] [Info] Start training from score 287.085823\n",
      "[LightGBM] [Info] Auto-choosing col-wise multi-threading, the overhead of testing was 0.000902 seconds.\n",
      "You can set `force_col_wise=true` to remove the overhead.\n",
      "[LightGBM] [Info] Total Bins 2040\n",
      "[LightGBM] [Info] Number of data points in the train set: 45361, number of used features: 8\n",
      "[LightGBM] [Info] Start training from score 286.250920\n",
      "[LightGBM] [Info] Auto-choosing col-wise multi-threading, the overhead of testing was 0.000808 seconds.\n",
      "You can set `force_col_wise=true` to remove the overhead.\n",
      "[LightGBM] [Info] Total Bins 2040\n",
      "[LightGBM] [Info] Number of data points in the train set: 45362, number of used features: 8\n",
      "[LightGBM] [Info] Start training from score 286.708875\n",
      "[LightGBM] [Info] Auto-choosing col-wise multi-threading, the overhead of testing was 0.000772 seconds.\n",
      "You can set `force_col_wise=true` to remove the overhead.\n",
      "[LightGBM] [Info] Total Bins 2040\n",
      "[LightGBM] [Info] Number of data points in the train set: 45362, number of used features: 8\n",
      "[LightGBM] [Info] Start training from score 288.697941\n",
      "[LightGBM] [Info] Auto-choosing col-wise multi-threading, the overhead of testing was 0.000765 seconds.\n",
      "You can set `force_col_wise=true` to remove the overhead.\n",
      "[LightGBM] [Info] Total Bins 2040\n",
      "[LightGBM] [Info] Number of data points in the train set: 45362, number of used features: 8\n",
      "[LightGBM] [Info] Start training from score 288.410917\n",
      "Средний R^2-коэффициент на кросс-валидации для LightGBM: 0.5145797833264107\n"
     ]
    }
   ],
   "source": [
    "import lightgbm as lgb\n",
    "\n",
    "lgb_model = lgb.LGBMRegressor(n_estimators=100)\n",
    "\n",
    "lgb_model.fit(X_train, Y_train)\n",
    "\n",
    "lgb_scores = cross_val_score(lgb_model, X_train, Y_train, cv=5, scoring='r2')\n",
    "lgb_average_score = lgb_scores.mean()\n",
    "\n",
    "print(f\"Средний R^2-коэффициент на кросс-валидации для LightGBM: {lgb_average_score}\")"
   ]
  },
  {
   "attachments": {},
   "cell_type": "markdown",
   "metadata": {},
   "source": [
    "Для получения максимального балла необходимо набрать **R^2 > 0.5**\\\n",
    "Лучше всего показала себя модель **LightGBM** (**R^2=0.514**). Дальнейшее улучшение модели или обработка данных не требуется."
   ]
  },
  {
   "cell_type": "code",
   "execution_count": 30,
   "metadata": {},
   "outputs": [],
   "source": [
    "# Результаты LightGBM\n",
    "votes_pred = lgb_model.predict(test_data)\n",
    "\n",
    "submission = pd.DataFrame({\n",
    "    \"id\": test_data[\"id\"], \n",
    "    \"votesCount\": votes_pred\n",
    "})\n",
    "submission.to_csv('submission.csv', index=False)"
   ]
  }
 ],
 "metadata": {
  "kernelspec": {
   "display_name": "Python 3",
   "language": "python",
   "name": "python3"
  },
  "language_info": {
   "codemirror_mode": {
    "name": "ipython",
    "version": 3
   },
   "file_extension": ".py",
   "mimetype": "text/x-python",
   "name": "python",
   "nbconvert_exporter": "python",
   "pygments_lexer": "ipython3",
   "version": "3.11.5"
  },
  "orig_nbformat": 4
 },
 "nbformat": 4,
 "nbformat_minor": 2
}
