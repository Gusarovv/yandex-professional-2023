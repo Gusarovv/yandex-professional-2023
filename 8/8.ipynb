{
 "cells": [
  {
   "attachments": {},
   "cell_type": "markdown",
   "metadata": {},
   "source": [
    "## Задание №8"
   ]
  },
  {
   "attachments": {},
   "cell_type": "markdown",
   "metadata": {},
   "source": [
    "$n$ друзей решили сыграть в игру на числовой прямой. У каждого из друзей есть начальная координата $a_{i0}$. Друзья по очереди переходят в координату, равную сумме координат остальных друзей. Так повторяется $k$ кругов.\n",
    "\n",
    "Например, если $n = 3$, первый круг пройдет так:\n",
    "\n",
    "- $a_{11} = a_{20} + a_{30}$\n",
    "- $a_{21} = a_{11} + a_{30}$\n",
    "- $a_{31} = a_{11} + a_{21}$\n",
    "\n",
    "Правила для победы друзья еще не придумали, поэтому один из друзей попросил вас посчитать конечные координаты всех друзей. Так как эти числа могут быть достаточно большими, посчитайте их по модулю $10^9 + 7$.\n",
    "\n",
    "**Формат ввода**\n",
    "\n",
    "В первой строке содержится одно число $t (1 ≤ t ≤ 10^4)$ — количество наборов входных данных. Далее следует описание наборов входных данных.\n",
    "\n",
    "Первая строка каждого набора данных содержит $2$ целых числа $n$ и $k$ $(2 ≤ n ≤ 20; 1 ≤ k ≤ 10^9)$. Вторая строка каждого набора данных содержит $n$ целых числ $a_{i0}$ $(1 ≤ a_{i0} ≤ 10^9)$.\n",
    "\n",
    "**Формат вывода**\n",
    "\n",
    "Для каждого наборов входных данных выведите $n$ целых чисел $a_{ik}$ — координаты после оканчания игры по модулю $10^9 + 7$.\n",
    "\n",
    "**Пример ввода:**\n",
    "\n",
    "```\n",
    "4\n",
    "3 1\n",
    "2 4 9\n",
    "4 2\n",
    "1 2 3 4\n",
    "10 1000000000\n",
    "1 2 3 4 5 6 7 8 9 10\n",
    "2 10000000\n",
    "11 20 \n",
    "```\n",
    "\n",
    "**Пример вывода:**\n",
    "\n",
    "```\n",
    "13 22 35 \n",
    "99 182 335 616 \n",
    "798043174 711116337 241722119 238953867 567184555 611321131 853187310 797581835 857620661 676730954 \n",
    "20 20 \n",
    "```\n",
    "\n",
    "**Примечание:**\n",
    "\n",
    "Считывание данных из файла `input.txt`."
   ]
  },
  {
   "cell_type": "code",
   "execution_count": 1,
   "metadata": {},
   "outputs": [
    {
     "name": "stdout",
     "output_type": "stream",
     "text": [
      "13 22 35\n",
      "99 182 335 616\n",
      "798043174 711116337 241722119 238953867 567184555 611321131 853187310 797581835 857620661 676730954\n",
      "20 20\n"
     ]
    }
   ],
   "source": [
    "import numpy as np\n",
    "import sys\n",
    "\n",
    "M7 = 1000000007\n",
    "\n",
    "def matmul(l, r):\n",
    "    return (l @ r) % M7\n",
    "\n",
    "\n",
    "def binpow(mtx, k):\n",
    "    result = np.eye(*mtx.shape, dtype='int64')\n",
    "    while k > 0:\n",
    "        if k % 2 != 0:\n",
    "            result = matmul(mtx, result)\n",
    "        mtx = matmul(mtx, mtx)\n",
    "        k //= 2\n",
    "    return result\n",
    "\n",
    "\n",
    "def solve(test_cases):\n",
    "    for t in test_cases:\n",
    "        n, k = t[0]\n",
    "        start = np.array(t[1], dtype='int64').reshape((1, -1))\n",
    "        dp = np.ones((n, n), dtype='int64')\n",
    "\n",
    "        for i in range(n):\n",
    "            for j in range(i + 1):\n",
    "                dp[j][i] = 0\n",
    "\n",
    "        for i in range(n):\n",
    "            for to in range(i + 1, n):\n",
    "                dp[:, to] = (dp[:, to] + dp[:, i]) % M7\n",
    "        \n",
    "        dp = binpow(dp, k)\n",
    "        start = matmul(start, dp)\n",
    "\n",
    "        np.savetxt(sys.stdout, start, fmt=\"%d\")\n",
    "\n",
    "\n",
    "def read_input(file_name):\n",
    "    test_cases = []\n",
    "    with open(file_name, 'r') as file:\n",
    "        t = int(file.readline())\n",
    "        for _ in range(t):\n",
    "            n, k = map(int, file.readline().split())\n",
    "            arr = list(map(int, file.readline().split()))\n",
    "            test_cases.append(((n, k), arr))\n",
    "    return test_cases\n",
    "\n",
    "\n",
    "test_cases = read_input('input.txt')\n",
    "solve(test_cases)"
   ]
  }
 ],
 "metadata": {
  "kernelspec": {
   "display_name": "Python 3",
   "language": "python",
   "name": "python3"
  },
  "language_info": {
   "codemirror_mode": {
    "name": "ipython",
    "version": 3
   },
   "file_extension": ".py",
   "mimetype": "text/x-python",
   "name": "python",
   "nbconvert_exporter": "python",
   "pygments_lexer": "ipython3",
   "version": "3.11.5"
  },
  "orig_nbformat": 4
 },
 "nbformat": 4,
 "nbformat_minor": 2
}
