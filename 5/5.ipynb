{
 "cells": [
  {
   "attachments": {},
   "cell_type": "markdown",
   "metadata": {},
   "source": [
    "## Задание №5"
   ]
  },
  {
   "cell_type": "markdown",
   "metadata": {},
   "source": [
    "У Юры есть датасет, содержащий 15 объектов и 2 признака, причём точки, соответствующие объектам, являются вершинами правильного 15-угольника. Юра тестирует на этом датасете алгоритм k-means (количество кластеров $k=3$, стандартная евклидова метрика на плоскости), состоящий из следующих шагов. Из точек датасета случайно выбираются 3 точки $C1$, $C2$, $C3$ – изначальные центры кластеров.\n",
    "\n",
    "Пока разбиение на кластеры не стабилизируется:\n",
    "\n",
    "- **(E-шаг)** Каждая точка $A$ датасета относится к кластеру, который соответствует ближайшему центру: значение кластера равно значению $k$, для которого величина $||A − C_k||$ минимальна.\n",
    "- **(M-шаг)** Центром $C_k$ каждого кластера назначается центр масс точек данного кластера.\n",
    "\n",
    "Юра не терпит неопределенностей и не хочет долго ждать, поэтому ему хочется, чтобы выполнялось два условия:\n",
    "\n",
    "1. При первом выполнении E-шага каждая точка однозначно отнесётся к ближайшему центру: ни для одной точки $A$ из датасета не будет двух центров кластеров на одном и том же минимальном расстоянии от $A$.\n",
    "2. Кластеризация после второго выполнение E-шага полностью совпадёт с кластеризацией после первого выполнения Е-шага, и алгоритм завершится.\n",
    "\n",
    "**Вопрос:** Найдите вероятность того, что при случайной инициализации центров кластеров эти два условия будут выполнены."
   ]
  },
  {
   "cell_type": "code",
   "execution_count": 5,
   "metadata": {},
   "outputs": [],
   "source": [
    "import numpy as np\n",
    "from matplotlib import pyplot as plt\n",
    "from itertools import combinations\n",
    "from scipy.spatial import distance_matrix\n",
    "from sklearn.metrics import pairwise_distances_argmin\n",
    "from math import pi\n",
    "from fractions import Fraction"
   ]
  },
  {
   "cell_type": "code",
   "execution_count": 6,
   "metadata": {},
   "outputs": [
    {
     "data": {
      "image/png": "[encoded data removed]",
      "text/plain": [
       "<Figure size 640x480 with 1 Axes>"
      ]
     },
     "metadata": {},
     "output_type": "display_data"
    }
   ],
   "source": [
    "def polygon_to_circle_points(indices):\n",
    "    angles = (2 * pi / 15) * indices\n",
    "    return np.column_stack((np.cos(angles), np.sin(angles)))\n",
    "\n",
    "indices = range(15)\n",
    "points = polygon_to_circle_points(np.array(indices, dtype=np.float64))\n",
    "plt.scatter(x=points[:, 0], y=points[:, 1])\n",
    "plt.show()"
   ]
  },
  {
   "cell_type": "code",
   "execution_count": 8,
   "metadata": {},
   "outputs": [
    {
     "name": "stdout",
     "output_type": "stream",
     "text": [
      "1/13\n"
     ]
    }
   ],
   "source": [
    "total_combinations = 0\n",
    "valid_combinations = []\n",
    "\n",
    "# Итерация по всем комбинациям 3 точек в качестве потенциальных центров кластеров\n",
    "for centers in combinations(indices, 3):\n",
    "    total_combinations += 1\n",
    "    center_coords = points[list(centers), :]\n",
    "    distances = distance_matrix(points, center_coords)\n",
    "    clusters = np.argmin(distances, axis=1)\n",
    "\n",
    "    # Первое условие: каждая точка однозначно относится к ближайшему центру\n",
    "    if any(np.isclose(distances[i, clusters[i]], \n",
    "                      np.min(distances[i, clusters[i] != np.arange(3)])) \n",
    "           for i in indices):\n",
    "        continue\n",
    "\n",
    "    # Второе условие: кластеризация остается неизменной после одного E-шага\n",
    "    new_center_coords = np.array([points[clusters == i].mean(0) for i in range(3)])\n",
    "    new_clusters = pairwise_distances_argmin(points, new_center_coords)\n",
    "    if np.array_equal(new_clusters, clusters):\n",
    "        valid_combinations.append(centers)\n",
    "\n",
    "# Расчет вероятности\n",
    "probability = Fraction(len(valid_combinations), total_combinations)\n",
    "print(probability)"
   ]
  }
 ],
 "metadata": {
  "kernelspec": {
   "display_name": "Python 3",
   "language": "python",
   "name": "python3"
  },
  "language_info": {
   "codemirror_mode": {
    "name": "ipython",
    "version": 3
   },
   "file_extension": ".py",
   "mimetype": "text/x-python",
   "name": "python",
   "nbconvert_exporter": "python",
   "pygments_lexer": "ipython3",
   "version": "3.11.5"
  },
  "orig_nbformat": 4
 },
 "nbformat": 4,
 "nbformat_minor": 2
}
