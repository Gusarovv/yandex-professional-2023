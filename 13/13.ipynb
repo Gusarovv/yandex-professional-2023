{
 "cells": [
  {
   "attachments": {},
   "cell_type": "markdown",
   "metadata": {},
   "source": [
    "## Задание №13"
   ]
  },
  {
   "attachments": {},
   "cell_type": "markdown",
   "metadata": {},
   "source": [
    "В далёком киберпространстве, в мире, где данные циркулируют среди огней серверных стоек, вы — знаменитый хакер, известный как \"Квантовый Оверрайд\". Ваш новый заказчик — таинственная организация, которая стремится минимизировать влияние конкурента в сетевом пространстве. Они предоставили вам доступ к особой системе Марковского процесса принятия решений (МППР), управляемой функцией полезности $Q$. Эта функция оценивает каждую возможную пару \"состояние-действие\", и ваша миссия — подобрать такие значения в этой функции для определенных пар, чтобы жадная стратегия системы привела к наименьшему суммарному дисконтированному вознаграждению. Это необходимо сделать с осторожностью, чтобы не вызвать подозрений, поэтому для одного МППР можно изменить полезность лишь одной пары \"состояние-действие\". Вашим нанимателям удалось выяснить коэффициент дисконтирования, используемый в системе $\\gamma=0.9$.\n",
    "\n",
    "**Формат ввода**\n",
    "\n",
    "В файле `mdps.json` находится список МППР. В файле `q_tables.json` представлены таблицы полезности $Q$ для каждого МППР. В файле `submit.json` даны примеры решений. В файле `example.py` находится пример чтения входных данных и генерации ответа.\n",
    "\n",
    "**Формат вывода**\n",
    "\n",
    "Измените файл `submit.json`, выбрав состояния действия, а также новую полезность $Q$ для каждого МППР."
   ]
  },
  {
   "cell_type": "code",
   "execution_count": 9,
   "metadata": {},
   "outputs": [
    {
     "name": "stdout",
     "output_type": "stream",
     "text": [
      "Mdps:  [{'0': {'0': [{'probability': 1.0, 'next_state': '1', 'reward': 0.33}], '1': [{'probability': 1.0, 'next_state': '1', 'reward': -0.64}]}, '1': {'0': [{'probability': 1.0, 'next_state': '0', 'reward': 0.1}], '1': [{'probability': 1.0, 'next_state': '0', 'reward': -0.25}]}}, {'0': {'0': [{'probability': 1.0, 'next_state': '1', 'reward': -0.02}], '1': [{'probability': 1.0, 'next_state': '1', 'reward': 0.37}]}, '1': {'0': [{'probability': 1.0, 'next_state': '0', 'reward': -0.7}], '1': [{'probability': 1.0, 'next_state': '0', 'reward': 0.78}]}}]\n",
      "Q_tables:  [{'0': {'0': 2.2063543094206666, '1': 1.2363543094206664}, '1': {'0': 2.0857188784786, '1': 1.7357188784786}}, {'0': {'0': 5.248027004989674, '1': 5.638027004989674}, '1': {'0': 4.374224304490706, '1': 5.854224304490707}}]\n"
     ]
    }
   ],
   "source": [
    "import json\n",
    "import pandas as pd\n",
    "import numpy as np\n",
    "\n",
    "with open('mdps.json') as f1:\n",
    "    mdps = json.load(f1)\n",
    "\n",
    "with open('q_tables.json') as f2:\n",
    "    q_tables = json.load(f2)\n",
    "    \n",
    "print(\"Mdps: \", mdps[:2])\n",
    "print(\"Q_tables: \", q_tables[:2])"
   ]
  },
  {
   "cell_type": "code",
   "execution_count": 10,
   "metadata": {},
   "outputs": [
    {
     "name": "stdout",
     "output_type": "stream",
     "text": [
      "Файл submit.json успешно обновлен.\n"
     ]
    }
   ],
   "source": [
    "# Коэффициент дисконтирования\n",
    "gamma = 0.9\n",
    "\n",
    "# Список для новых значений\n",
    "new_values = []\n",
    "\n",
    "# Цикл по каждому МППР\n",
    "for i in range(len(mdps)):\n",
    "    mdp = mdps[i]\n",
    "    q_table = q_tables[i]\n",
    "    \n",
    "    # Минимальное значение суммарного дисконтированного вознаграждения\n",
    "    min_reward = float('inf')\n",
    "    min_state = None\n",
    "    min_action = None\n",
    "\n",
    "    # Проход по каждому состоянию и действию\n",
    "    for state, actions in mdp.items():\n",
    "        for action, outcomes in actions.items():\n",
    "            \n",
    "            # Суммарное дисконтированное вознаграждение для текущего действия\n",
    "            total_reward = sum(outcome['probability'] * (outcome['reward'] + gamma * q_table[outcome['next_state']][action]) for outcome in outcomes)\n",
    "\n",
    "            # Если это действие имеет наименьшее вознаграждение, обновим минимальное значение и запомним состояние и действие\n",
    "            if total_reward < min_reward:\n",
    "                min_reward = total_reward\n",
    "                min_state = state\n",
    "                min_action = action\n",
    "\n",
    "    new_values.append({\n",
    "        'state': min_state,\n",
    "        'action': min_action,\n",
    "        'value': -1\n",
    "    })\n",
    "\n",
    "with open('submit.json', 'w') as f:\n",
    "    json.dump(new_values, f)"
   ]
  }
 ],
 "metadata": {
  "kernelspec": {
   "display_name": "Python 3",
   "language": "python",
   "name": "python3"
  },
  "language_info": {
   "codemirror_mode": {
    "name": "ipython",
    "version": 3
   },
   "file_extension": ".py",
   "mimetype": "text/x-python",
   "name": "python",
   "nbconvert_exporter": "python",
   "pygments_lexer": "ipython3",
   "version": "3.11.5"
  },
  "orig_nbformat": 4
 },
 "nbformat": 4,
 "nbformat_minor": 2
}
