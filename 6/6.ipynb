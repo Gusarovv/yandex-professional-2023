{
 "cells": [
  {
   "cell_type": "markdown",
   "metadata": {},
   "source": [
    "## Задание №6"
   ]
  },
  {
   "attachments": {},
   "cell_type": "markdown",
   "metadata": {},
   "source": [
    "Большие языковые модели (БЯМ) в последние годы стали быстро расти. Точная настройка таких больших моделей под индивидуальные задачи обходится непомерно дорого. Для ускорения обучения можно применять низкоранговые разложения.\n",
    "\n",
    "Давайте исследуем произвольный промежуточный слой обученной БЯМ, который можно описать уравнением:\n",
    "\n",
    "$Y = W_{n \\times m} \\cdot X$,\n",
    "\n",
    "где $W_{n \\times m}$ — матрица обученных параметров размера $n \\times m$, $X$ — входные активации, $Y$ — выходные активации, $\\cdot$ — операция матричного умножения.\n",
    "\n",
    "Предположим, что изменение весов во время адаптации модели (дообучении на целевую задачу) будет иметь низкий \"внутренний ранг\" $r$. Если это так, то мы можем имитировать эффект полноценной тренировки, обучая вместо параметров $W_{n \\times m}$ две небольшие матрицы низкого ранга $A$ и $C$. В результате, слой сети будет описываться уравнением:\n",
    "\n",
    "$Y = W_{n \\times m}^{frozen} \\cdot X + A_{n \\times r} \\cdot C_{r \\times m} \\cdot X$,\n",
    "\n",
    "где $W_{n \\times m}^{frozen}$ — зафиксированная матрица обученных параметров, $A_{n \\times r}$ и $C_{r \\times m}$ — обучаемые параметры.\n",
    "\n",
    "На примере части графа вычисления БЯМ для $n = 3$ и $m = 10$ определите, скелетные разложения каких рангов $r_i$ необходимо найти для каждого слоя, чтобы уменьшить количество обучаемых параметров в сумме в 3 раза. Слой `MatMul` с припиской $B_{⟨x, y⟩}$ на изображении обозначает матричное умножение на матрицу весов размерности $(x, y)$. Слой `Split` разделяет вектор входов на несколько частей, `Transpose` транспонирует матрицу входов.\n",
    "\n",
    "**Формат вывода:** Четыре целых числа $r_i > 1$, записанные через запятую без пробелов, обозначающие ранги найденных матриц для каждого из слоев сети. Очередность слоев задается нумерацией по изображению от одного до четырех и последовательно по приведенному коду (см. функцию `forward`).\n",
    "\n",
    "**Примечания:** Для лучшего понимания предложенного графа вычислений приводим программный код на языке Python, написанный с применением библиотеки torch:\n",
    "\n",
    "```python\n",
    "class CustomGraph(torch.nn.Module):\n",
    "    def __init__(self):\n",
    "        super().__init__()\n",
    "        self.qkv = torch.nn.Linear(10, 30, bias=False)\n",
    "        self.q_proj = torch.nn.Linear(10, 5, bias=False)\n",
    "        self.k_proj = torch.nn.Linear(10, 5, bias=False)\n",
    "        self.v_proj = torch.nn.Linear(10, 20, bias=False)\n",
    "\n",
    "    def forward(self, x):\n",
    "        q, k ,v = torch.split(self.qkv(x), 10, dim=1)\n",
    "        qk_proj = torch.matmul(self.q_proj(q), self.k_proj(k).T)\n",
    "        return torch.matmul(qk_proj, self.v_proj(v))\n",
    "```"
   ]
  },
  {
   "cell_type": "code",
   "execution_count": 11,
   "metadata": {},
   "outputs": [
    {
     "data": {
      "text/plain": [
       "'graph.png'"
      ]
     },
     "execution_count": 11,
     "metadata": {},
     "output_type": "execute_result"
    }
   ],
   "source": [
    "import torch\n",
    "from torchviz import make_dot\n",
    "\n",
    "class CustomGraph(torch.nn.Module):\n",
    "    def __init__(self):\n",
    "        super().__init__()\n",
    "        self.qkv = torch.nn.Linear(10, 30, bias=False)\n",
    "        self.q_proj = torch.nn.Linear(10, 5, bias=False)\n",
    "        self.k_proj = torch.nn.Linear(10, 5, bias=False)\n",
    "        self.v_proj = torch.nn.Linear(10, 20, bias=False)\n",
    "\n",
    "    def forward(self, x):\n",
    "        q, k ,v = torch.split(self.qkv(x), 10, dim=1)\n",
    "        qk_proj = torch.matmul(self.q_proj(q), self.k_proj(k).T)\n",
    "        return torch.matmul(qk_proj, self.v_proj(v))\n",
    "\n",
    "model = CustomGraph()\n",
    "x = torch.randn(1, 10)\n",
    "output = model(x)\n",
    "make_dot(output).render(\"graph\", format=\"png\")"
   ]
  },
  {
   "attachments": {},
   "cell_type": "markdown",
   "metadata": {},
   "source": [
    "![graph](./graph.png)\n"
   ]
  },
  {
   "cell_type": "code",
   "execution_count": 12,
   "metadata": {},
   "outputs": [
    {
     "data": {
      "text/plain": [
       "(600, 200)"
      ]
     },
     "execution_count": 12,
     "metadata": {},
     "output_type": "execute_result"
    }
   ],
   "source": [
    "matrices = [(10, 30), (10, 5), (10, 5), (10, 20)]\n",
    "ranks = [2, 2, 2, 2]\n",
    "\n",
    "total_params = sum(n * m for n, m in matrices)\n",
    "compressed = sum(ranks[i] * n + ranks[i] * m for i, (n, m) in enumerate(matrices))\n",
    "total_params, compressed"
   ]
  },
  {
   "cell_type": "code",
   "execution_count": 13,
   "metadata": {},
   "outputs": [
    {
     "name": "stdout",
     "output_type": "stream",
     "text": [
      "Ранги:\n",
      "2, 2, 2, 2\n",
      "Количество параметров:\n",
      "200\n"
     ]
    }
   ],
   "source": [
    "print('Ранги:')\n",
    "print(', '.join(map(str, ranks)))\n",
    "print('Количество параметров:')\n",
    "print(compressed)"
   ]
  }
 ],
 "metadata": {
  "kernelspec": {
   "display_name": "Python 3",
   "language": "python",
   "name": "python3"
  },
  "language_info": {
   "codemirror_mode": {
    "name": "ipython",
    "version": 3
   },
   "file_extension": ".py",
   "mimetype": "text/x-python",
   "name": "python",
   "nbconvert_exporter": "python",
   "pygments_lexer": "ipython3",
   "version": "3.11.5"
  },
  "orig_nbformat": 4
 },
 "nbformat": 4,
 "nbformat_minor": 2
}
