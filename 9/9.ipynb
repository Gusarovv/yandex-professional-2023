{
 "cells": [
  {
   "attachments": {},
   "cell_type": "markdown",
   "metadata": {},
   "source": [
    "## Задание №9"
   ]
  },
  {
   "attachments": {},
   "cell_type": "markdown",
   "metadata": {},
   "source": [
    "Разобьём аудиодорожку на $m$ фрагментов длиной, например, 0.1 секунды. Будем считать, что каждый фрагмент времени соответствует ровно одному символу. При этом каждому символу может соответствовать больше одного фрагмента, но все фрагменты, соответствующие одному символу, должны идти подряд. Наша цель — восстановить искомое соответствие. С помощью нейросетевой модели предскажем матрицу релевантностей $A=(a_{i,j})$ размера $n \\times m$, где $a_{i,j}$ — мера релевантности $i$-ого символа к $j$-ому фрагменту. Необходимо построить соответствие символов и фрагментов так, чтобы максимизировать сумму релевантностей.\n",
    "\n",
    "Иными словами, по данной матрице $A=(a_{i,j})$ размера $n \\times m$ необходимо найти такой непрерывный путь по клеткам матрицы, что:\n",
    "\n",
    "1. Пусть стартует из левой верхней клетки и заканчивается в правой нижней;\n",
    "2. Каждый шаг пути представляет из себя перемещение из текущей позиции или по диагонали вниз, или на правую ячейку внутри той же строки;\n",
    "3. Сумма релевантностей $a_{i,j}$ по клеткам пути максимально возможная.\n",
    "\n",
    "**Пример ввода:**\n",
    "```\n",
    "3\n",
    "4\n",
    "1, 3, 1, 1\n",
    "1, 2, 2, 2\n",
    "4, 2, 1, 0\n",
    "```\n",
    "\n",
    "**Пример вывода:**\n",
    "```\n",
    "1, 1, 0, 0\n",
    "0, 0, 1, 0\n",
    "0, 0, 0, 1\n",
    "```\n",
    "\n",
    "**Формат ввода:**\n",
    "\n",
    "В первой строке написано число $n⩽10^4$ — количество строк матрицы.\n",
    "\n",
    "Во второй строке написано число $m⩽10^4$ — количество столбцов матрицы, $m⩾n$, $mn⩽10^5$.\n",
    "\n",
    "В следующих $n$ строках записаны элементы матрицы — по $m$ целых чисел $0⩽a_{ij}⩽10$ через запятую с пробелом в каждой строке.\n",
    "\n",
    "**Формат вывода:**\n",
    "\n",
    "Выведите $n$ строк, в каждой строке по $m$ чисел через запятую с пробелом. Число равно 0, если соответствующая клетка не является частью пути, и 1, если является.\n",
    "\n",
    "**Примечания:**\n",
    "\n",
    "Гарантируется, что описанный максимальный путь единственный."
   ]
  },
  {
   "cell_type": "code",
   "execution_count": 2,
   "metadata": {},
   "outputs": [
    {
     "name": "stdout",
     "output_type": "stream",
     "text": [
      "1, 1, 0, 0\n",
      "0, 0, 1, 0\n",
      "0, 0, 0, 1\n"
     ]
    }
   ],
   "source": [
    "import numpy as np\n",
    "\n",
    "def read_data():\n",
    "    with open('input.txt', 'r') as file:\n",
    "        n = int(file.readline().strip())\n",
    "        m = int(file.readline().strip())\n",
    "        matrix = [list(map(int, line.strip().split(', '))) for line in file]\n",
    "    return n, m, matrix\n",
    "\n",
    "def find_path(n, m, matrix):\n",
    "    dp = [[0]*m for _ in range(n)]\n",
    "    dp[0][0] = matrix[0][0]\n",
    "    path = [[(0, 0)]*m for _ in range(n)]\n",
    "    for i in range(1, m):\n",
    "        dp[0][i] = dp[0][i-1] + matrix[0][i]\n",
    "        path[0][i] = (0, i-1)\n",
    "    for i in range(1, n):\n",
    "        dp[i][i] = dp[i-1][i-1] + matrix[i][i]\n",
    "        path[i][i] = (i-1, i-1)\n",
    "        for j in range(i+1, m):\n",
    "            if dp[i][j-1] > dp[i-1][j-1]:\n",
    "                dp[i][j] = dp[i][j-1] + matrix[i][j]\n",
    "                path[i][j] = (i, j-1)\n",
    "            else:\n",
    "                dp[i][j] = dp[i-1][j-1] + matrix[i][j]\n",
    "                path[i][j] = (i-1, j-1)\n",
    "    return dp, path\n",
    "\n",
    "def build_output_matrix(n, m, path):\n",
    "    output = np.zeros((n, m), dtype=int)\n",
    "    i, j = n-1, m-1\n",
    "    while (i, j) != (0, 0):\n",
    "        output[i][j] = 1\n",
    "        i, j = path[i][j]\n",
    "    output[0][0] = 1\n",
    "    return output\n",
    "\n",
    "\n",
    "n, m, matrix = read_data()\n",
    "dp, path = find_path(n, m, matrix)\n",
    "output = build_output_matrix(n, m, path)\n",
    "for row in output:\n",
    "\tprint(', '.join(map(str,row)))\n",
    "\n"
   ]
  }
 ],
 "metadata": {
  "kernelspec": {
   "display_name": "Python 3",
   "language": "python",
   "name": "python3"
  },
  "language_info": {
   "codemirror_mode": {
    "name": "ipython",
    "version": 3
   },
   "file_extension": ".py",
   "mimetype": "text/x-python",
   "name": "python",
   "nbconvert_exporter": "python",
   "pygments_lexer": "ipython3",
   "version": "3.11.5"
  },
  "orig_nbformat": 4
 },
 "nbformat": 4,
 "nbformat_minor": 2
}
