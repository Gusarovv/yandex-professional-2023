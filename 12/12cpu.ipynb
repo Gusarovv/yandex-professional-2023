{
 "cells": [
  {
   "attachments": {},
   "cell_type": "markdown",
   "id": "a7a59c47",
   "metadata": {},
   "source": [
    "## Задание №12"
   ]
  },
  {
   "attachments": {},
   "cell_type": "markdown",
   "id": "8bb1ccd9-bdc0-49e6-a1d4-ab712fe87958",
   "metadata": {},
   "source": [
    "Необходимо восстановить поле, которое образуется в результате продувки в аэродинамической трубе.\n",
    "\n",
    "**Формат ввода**\n",
    "\n",
    "Вам задан набор данных (`train.csv`), состоящий из следующих полей:\n",
    "\n",
    "- $x$, $y$, $z$ — координаты точки в пространстве;\n",
    "- $u_x$, $u_y$, $u_z$ — вектор скорости потока в данной точке;\n",
    "- $p$ — давление в данной точке.\n",
    "\n",
    "Набор данных `test.csv` содержит только координаты $(x, y, z)$.\n",
    "\n",
    "**Формат вывода**\n",
    "\n",
    "Вам необходимо послать в тестирующую систему файл `submission.csv`, $k$-я строка которого будет содержать предсказанные значения $u_x$, $u_y$, $u_z$, $p$ для $k$-ой строки файла `test.csv`. Предсказанные таргеты в каждой строке разделяются запятыми. Нулевая строка должна содержать название колонок (игнорируются при чтении). Файл `sample_submission.csv` представляет из себя пример посылки.\n",
    "\n",
    "**Примечания**\n",
    "\n",
    "Оценка решения будет проводится на основе метрики MAE по формуле:\n",
    "\n",
    "$$points = \\min\\left(10, \\max\\left(0, \\frac{MaxScore - Score}{MaxScore - MinScore}\\right)\\right)$$\n",
    "\n",
    "где $Score$ — значение MAE вашей посылки, $MinScore$ — порог по метрике снизу, $MaxScore$ — порог по метрике сверху.\n",
    "\n",
    "Для различных полей значения $MinScore$ и $MaxScore$ различаются:\n",
    "\n",
    "- Для $u_x$, $u_y$, $u_z$ значения $MinScore = 1.1$ и $MaxScore = 1.9$;\n",
    "- Для $p$ значения $MinScore = 500$ и $MaxScore = 1900$.\n",
    "\n",
    "После подсчёта $points$ по каждому таргету по-отдельности итоговые значения $points$ усредняются по всем четырём таргетам.\n",
    "\n",
    "**Корректировка:**\n",
    "Максимальный балл при `MAE` < 0.13"
   ]
  },
  {
   "cell_type": "code",
   "execution_count": 12,
   "id": "555cdc26-b5cf-4007-84d4-53ea0612e6a5",
   "metadata": {},
   "outputs": [],
   "source": [
    "import warnings\n",
    "warnings.simplefilter(action='ignore', category=FutureWarning)\n",
    "%matplotlib inline\n",
    "\n",
    "import os\n",
    "import tensorflow as tf\n",
    "import pandas as pd\n",
    "import numpy as np\n",
    "\n",
    "import seaborn as sns\n",
    "import matplotlib.pyplot as plt\n",
    "\n",
    "from tensorflow.keras.utils import plot_model\n",
    "from tensorflow.keras import layers, losses, metrics, regularizers, Sequential\n",
    "from tensorflow.keras.callbacks import EarlyStopping, ModelCheckpoint\n",
    "\n",
    "\n",
    "sns.set()\n",
    "\n",
    "train_path = 'train.csv'\n",
    "test_path = 'test.csv'\n",
    "sample_path = 'sample_submission.csv'\n",
    "submission_path = 'submission.csv'"
   ]
  },
  {
   "cell_type": "code",
   "execution_count": 13,
   "id": "d3645a61-f7be-490a-8d6b-343ad6e6fdba",
   "metadata": {},
   "outputs": [
    {
     "data": {
      "text/html": [
       "<div>\n",
       "<style scoped>\n",
       "    .dataframe tbody tr th:only-of-type {\n",
       "        vertical-align: middle;\n",
       "    }\n",
       "\n",
       "    .dataframe tbody tr th {\n",
       "        vertical-align: top;\n",
       "    }\n",
       "\n",
       "    .dataframe thead th {\n",
       "        text-align: right;\n",
       "    }\n",
       "</style>\n",
       "<table border=\"1\" class=\"dataframe\">\n",
       "  <thead>\n",
       "    <tr style=\"text-align: right;\">\n",
       "      <th></th>\n",
       "      <th>x</th>\n",
       "      <th>y</th>\n",
       "      <th>z</th>\n",
       "      <th>u_x</th>\n",
       "      <th>u_y</th>\n",
       "      <th>u_z</th>\n",
       "      <th>p</th>\n",
       "    </tr>\n",
       "  </thead>\n",
       "  <tbody>\n",
       "    <tr>\n",
       "      <th>0</th>\n",
       "      <td>-2.182809</td>\n",
       "      <td>-0.029668</td>\n",
       "      <td>-4.177883</td>\n",
       "      <td>410.436506</td>\n",
       "      <td>0.013901</td>\n",
       "      <td>-0.054928</td>\n",
       "      <td>100030.436265</td>\n",
       "    </tr>\n",
       "    <tr>\n",
       "      <th>1</th>\n",
       "      <td>-5.697199</td>\n",
       "      <td>-1.168055</td>\n",
       "      <td>2.704167</td>\n",
       "      <td>410.437352</td>\n",
       "      <td>-0.030757</td>\n",
       "      <td>0.021365</td>\n",
       "      <td>100020.971632</td>\n",
       "    </tr>\n",
       "    <tr>\n",
       "      <th>2</th>\n",
       "      <td>-2.388080</td>\n",
       "      <td>0.489320</td>\n",
       "      <td>-4.422072</td>\n",
       "      <td>410.443844</td>\n",
       "      <td>0.028441</td>\n",
       "      <td>-0.042093</td>\n",
       "      <td>100021.156537</td>\n",
       "    </tr>\n",
       "    <tr>\n",
       "      <th>3</th>\n",
       "      <td>-6.859628</td>\n",
       "      <td>0.177311</td>\n",
       "      <td>-1.745587</td>\n",
       "      <td>410.430337</td>\n",
       "      <td>0.008494</td>\n",
       "      <td>-0.011427</td>\n",
       "      <td>100018.526121</td>\n",
       "    </tr>\n",
       "    <tr>\n",
       "      <th>4</th>\n",
       "      <td>2.668538</td>\n",
       "      <td>-0.702350</td>\n",
       "      <td>3.033114</td>\n",
       "      <td>417.831936</td>\n",
       "      <td>-0.717926</td>\n",
       "      <td>0.116151</td>\n",
       "      <td>97710.352064</td>\n",
       "    </tr>\n",
       "    <tr>\n",
       "      <th>...</th>\n",
       "      <td>...</td>\n",
       "      <td>...</td>\n",
       "      <td>...</td>\n",
       "      <td>...</td>\n",
       "      <td>...</td>\n",
       "      <td>...</td>\n",
       "      <td>...</td>\n",
       "    </tr>\n",
       "    <tr>\n",
       "      <th>8527</th>\n",
       "      <td>-4.240097</td>\n",
       "      <td>-0.190458</td>\n",
       "      <td>-0.233550</td>\n",
       "      <td>406.192347</td>\n",
       "      <td>19.419476</td>\n",
       "      <td>-7.903454</td>\n",
       "      <td>102458.496025</td>\n",
       "    </tr>\n",
       "    <tr>\n",
       "      <th>8528</th>\n",
       "      <td>-2.490715</td>\n",
       "      <td>-0.443627</td>\n",
       "      <td>-3.005777</td>\n",
       "      <td>410.190644</td>\n",
       "      <td>-0.012390</td>\n",
       "      <td>-0.552977</td>\n",
       "      <td>100225.470127</td>\n",
       "    </tr>\n",
       "    <tr>\n",
       "      <th>8529</th>\n",
       "      <td>1.819966</td>\n",
       "      <td>-0.805841</td>\n",
       "      <td>-4.031370</td>\n",
       "      <td>409.337590</td>\n",
       "      <td>-0.234673</td>\n",
       "      <td>-1.674802</td>\n",
       "      <td>100720.371138</td>\n",
       "    </tr>\n",
       "    <tr>\n",
       "      <th>8530</th>\n",
       "      <td>-1.464362</td>\n",
       "      <td>-1.064565</td>\n",
       "      <td>3.252417</td>\n",
       "      <td>410.305496</td>\n",
       "      <td>-0.110896</td>\n",
       "      <td>0.647835</td>\n",
       "      <td>100233.838109</td>\n",
       "    </tr>\n",
       "    <tr>\n",
       "      <th>8531</th>\n",
       "      <td>1.819498</td>\n",
       "      <td>-0.691653</td>\n",
       "      <td>0.839134</td>\n",
       "      <td>442.477173</td>\n",
       "      <td>16.781423</td>\n",
       "      <td>-3.749191</td>\n",
       "      <td>82108.472492</td>\n",
       "    </tr>\n",
       "  </tbody>\n",
       "</table>\n",
       "<p>8532 rows × 7 columns</p>\n",
       "</div>"
      ],
      "text/plain": [
       "             x         y         z         u_x        u_y       u_z  \\\n",
       "0    -2.182809 -0.029668 -4.177883  410.436506   0.013901 -0.054928   \n",
       "1    -5.697199 -1.168055  2.704167  410.437352  -0.030757  0.021365   \n",
       "2    -2.388080  0.489320 -4.422072  410.443844   0.028441 -0.042093   \n",
       "3    -6.859628  0.177311 -1.745587  410.430337   0.008494 -0.011427   \n",
       "4     2.668538 -0.702350  3.033114  417.831936  -0.717926  0.116151   \n",
       "...        ...       ...       ...         ...        ...       ...   \n",
       "8527 -4.240097 -0.190458 -0.233550  406.192347  19.419476 -7.903454   \n",
       "8528 -2.490715 -0.443627 -3.005777  410.190644  -0.012390 -0.552977   \n",
       "8529  1.819966 -0.805841 -4.031370  409.337590  -0.234673 -1.674802   \n",
       "8530 -1.464362 -1.064565  3.252417  410.305496  -0.110896  0.647835   \n",
       "8531  1.819498 -0.691653  0.839134  442.477173  16.781423 -3.749191   \n",
       "\n",
       "                  p  \n",
       "0     100030.436265  \n",
       "1     100020.971632  \n",
       "2     100021.156537  \n",
       "3     100018.526121  \n",
       "4      97710.352064  \n",
       "...             ...  \n",
       "8527  102458.496025  \n",
       "8528  100225.470127  \n",
       "8529  100720.371138  \n",
       "8530  100233.838109  \n",
       "8531   82108.472492  \n",
       "\n",
       "[8532 rows x 7 columns]"
      ]
     },
     "execution_count": 13,
     "metadata": {},
     "output_type": "execute_result"
    }
   ],
   "source": [
    "train_csv = pd.read_csv(train_path)\n",
    "test_csv = pd.read_csv(test_path)\n",
    "train_csv"
   ]
  },
  {
   "cell_type": "code",
   "execution_count": 14,
   "id": "1d44f3f6-9908-4871-858c-0e9517b0cb92",
   "metadata": {},
   "outputs": [
    {
     "data": {
      "text/html": [
       "<div>\n",
       "<style scoped>\n",
       "    .dataframe tbody tr th:only-of-type {\n",
       "        vertical-align: middle;\n",
       "    }\n",
       "\n",
       "    .dataframe tbody tr th {\n",
       "        vertical-align: top;\n",
       "    }\n",
       "\n",
       "    .dataframe thead th {\n",
       "        text-align: right;\n",
       "    }\n",
       "</style>\n",
       "<table border=\"1\" class=\"dataframe\">\n",
       "  <thead>\n",
       "    <tr style=\"text-align: right;\">\n",
       "      <th></th>\n",
       "      <th>x</th>\n",
       "      <th>y</th>\n",
       "      <th>z</th>\n",
       "    </tr>\n",
       "  </thead>\n",
       "  <tbody>\n",
       "    <tr>\n",
       "      <th>0</th>\n",
       "      <td>12.595389</td>\n",
       "      <td>-0.676479</td>\n",
       "      <td>9.448017</td>\n",
       "    </tr>\n",
       "    <tr>\n",
       "      <th>1</th>\n",
       "      <td>-5.115985</td>\n",
       "      <td>0.332546</td>\n",
       "      <td>-1.952567</td>\n",
       "    </tr>\n",
       "    <tr>\n",
       "      <th>2</th>\n",
       "      <td>-2.182809</td>\n",
       "      <td>-0.133158</td>\n",
       "      <td>4.463463</td>\n",
       "    </tr>\n",
       "    <tr>\n",
       "      <th>3</th>\n",
       "      <td>2.233563</td>\n",
       "      <td>-0.857583</td>\n",
       "      <td>-3.054615</td>\n",
       "    </tr>\n",
       "    <tr>\n",
       "      <th>4</th>\n",
       "      <td>-0.847552</td>\n",
       "      <td>-0.185422</td>\n",
       "      <td>-1.177141</td>\n",
       "    </tr>\n",
       "    <tr>\n",
       "      <th>...</th>\n",
       "      <td>...</td>\n",
       "      <td>...</td>\n",
       "      <td>...</td>\n",
       "    </tr>\n",
       "    <tr>\n",
       "      <th>3651</th>\n",
       "      <td>-2.695986</td>\n",
       "      <td>-0.598862</td>\n",
       "      <td>-3.103453</td>\n",
       "    </tr>\n",
       "    <tr>\n",
       "      <th>3652</th>\n",
       "      <td>12.134517</td>\n",
       "      <td>-0.883459</td>\n",
       "      <td>-7.321329</td>\n",
       "    </tr>\n",
       "    <tr>\n",
       "      <th>3653</th>\n",
       "      <td>-3.927776</td>\n",
       "      <td>-1.165944</td>\n",
       "      <td>0.220514</td>\n",
       "    </tr>\n",
       "    <tr>\n",
       "      <th>3654</th>\n",
       "      <td>1.306790</td>\n",
       "      <td>-0.909331</td>\n",
       "      <td>3.745842</td>\n",
       "    </tr>\n",
       "    <tr>\n",
       "      <th>3655</th>\n",
       "      <td>2.668540</td>\n",
       "      <td>0.436024</td>\n",
       "      <td>-3.005773</td>\n",
       "    </tr>\n",
       "  </tbody>\n",
       "</table>\n",
       "<p>3656 rows × 3 columns</p>\n",
       "</div>"
      ],
      "text/plain": [
       "              x         y         z\n",
       "0     12.595389 -0.676479  9.448017\n",
       "1     -5.115985  0.332546 -1.952567\n",
       "2     -2.182809 -0.133158  4.463463\n",
       "3      2.233563 -0.857583 -3.054615\n",
       "4     -0.847552 -0.185422 -1.177141\n",
       "...         ...       ...       ...\n",
       "3651  -2.695986 -0.598862 -3.103453\n",
       "3652  12.134517 -0.883459 -7.321329\n",
       "3653  -3.927776 -1.165944  0.220514\n",
       "3654   1.306790 -0.909331  3.745842\n",
       "3655   2.668540  0.436024 -3.005773\n",
       "\n",
       "[3656 rows x 3 columns]"
      ]
     },
     "execution_count": 14,
     "metadata": {},
     "output_type": "execute_result"
    }
   ],
   "source": [
    "test_csv"
   ]
  },
  {
   "cell_type": "code",
   "execution_count": 15,
   "id": "83502911-6990-46e5-8f1f-7b83c3a761b3",
   "metadata": {},
   "outputs": [],
   "source": [
    "feat_cols = ['x', 'y', 'z']\n",
    "target_cols = ['u_x', 'u_y', 'u_z', 'p']\n",
    "\n",
    "n_feats = len(feat_cols)\n",
    "n_targets = len(target_cols)"
   ]
  },
  {
   "cell_type": "code",
   "execution_count": 16,
   "id": "0fda2cb5-aa06-4dd6-8fea-b1b720d49a69",
   "metadata": {},
   "outputs": [],
   "source": [
    "def generate_train_data():\n",
    "    mean, std = train_csv[target_cols].mean(), train_csv[target_cols].std()\n",
    "    for (i, data) in train_csv.iterrows():\n",
    "        yield (data[feat_cols], (data[target_cols] - mean) / std)\n",
    "\n",
    "\n",
    "def prep_train_data():\n",
    "    return tf.data.Dataset.from_generator(\n",
    "        generate_train_data, \n",
    "        output_signature=(\n",
    "            tf.TensorSpec(shape=(n_feats), dtype=tf.float32), \n",
    "            tf.TensorSpec(shape=(n_targets), dtype=tf.float32)\n",
    "        )\n",
    "    )"
   ]
  },
  {
   "cell_type": "code",
   "execution_count": 17,
   "id": "8f18d6bd-de7b-4238-a283-d4410883f86d",
   "metadata": {},
   "outputs": [],
   "source": [
    "def prep_linear(inputs, outputs, layer_sizes, use_dropout=False, use_regularizers=False):\n",
    "    model = Sequential()\n",
    "    model.add(layers.InputLayer(input_shape=(inputs)))\n",
    "    \n",
    "    for layer_size in layer_sizes:\n",
    "        if use_regularizers:\n",
    "            model.add(layers.Dense(layer_size, kernel_regularizer=regularizers.L2(1e-4)))\n",
    "        else:\n",
    "            model.add(layers.Dense(layer_size))\n",
    "        model.add(layers.PReLU()) # PReLU > LeakyReLU\n",
    "        if use_dropout:\n",
    "            model.add(layers.Dropout(.25))\n",
    "    \n",
    "    model.add(layers.Dense(outputs))\n",
    "    return model\n",
    "\n",
    "\n",
    "def prep_unet(inputs, outputs, layer_sizes):\n",
    "    inputs = tf.keras.Input((inputs))\n",
    "    x = inputs\n",
    "\n",
    "    skips = []\n",
    "\n",
    "    for layer_size in layer_sizes:\n",
    "        x = layers.Dense(layer_size)(x)\n",
    "        x = layers.PReLU()(x) # PReLU > LeakyReLU\n",
    "        skips.append(x)\n",
    "\n",
    "    for layer_size, skip in zip(layer_sizes[-2::-1], skips[-2::-1]):\n",
    "        x = layers.Dense(layer_size)(x)\n",
    "        x = layers.PReLU()(x) # PReLU > LeakyReLU\n",
    "        x = tf.keras.layers.concatenate([x, skip])\n",
    "\n",
    "    model = tf.keras.Model(inputs, layers.Dense(outputs)(x))\n",
    "    return model"
   ]
  },
  {
   "cell_type": "code",
   "execution_count": 18,
   "id": "13772b79-b8aa-4776-b2ec-1990bc541949",
   "metadata": {},
   "outputs": [],
   "source": [
    "def build_regression(model):\n",
    "    model.compile(\n",
    "        optimizer='adam', \n",
    "        loss=losses.MeanAbsoluteError(),\n",
    "        metrics=[metrics.RootMeanSquaredError(name='rmse')]\n",
    "    )\n",
    "\n",
    "\n",
    "def prep_simple():\n",
    "    dense_model = prep_linear(n_feats, n_targets, [32 * n_feats, 64 * n_feats, 16 * n_feats], use_dropout=True)\n",
    "    build_regression(dense_model)\n",
    "    return dense_model\n",
    "    \n",
    "\n",
    "def prep_parallel():\n",
    "    inputs = tf.keras.Input((n_feats))\n",
    "    \n",
    "    speed_model = prep_linear(n_feats, n_targets - 1, [32 * n_feats, 64 * n_feats, 16 * n_feats], use_dropout=True, use_regularizers=True)\n",
    "    pressure_model = prep_linear(n_feats, 1, [16 * n_feats, 32 * n_feats, 8 * n_feats], use_dropout=True, use_regularizers=False)\n",
    "\n",
    "    outputs = layers.concatenate([speed_model(inputs), pressure_model(inputs)])\n",
    "    parallel_model = tf.keras.Model(inputs, outputs)\n",
    "\n",
    "    build_regression(parallel_model)\n",
    "    \n",
    "    return parallel_model\n",
    "\n",
    "\n",
    "def prep_parallel_unet():\n",
    "    inputs = tf.keras.Input((n_feats))\n",
    "    \n",
    "    speed_model = prep_unet(n_feats, n_targets - 1, [8 * n_feats, 16 * n_feats, 32 * n_feats])\n",
    "    pressure_model = prep_unet(n_feats, 1, [4 * n_feats, 8 * n_feats, 16 * n_feats])\n",
    "\n",
    "    outputs = layers.concatenate([speed_model(inputs), pressure_model(inputs)])\n",
    "    parallel_model = tf.keras.Model(inputs, outputs)\n",
    "\n",
    "    build_regression(parallel_model)\n",
    "    \n",
    "    return parallel_model"
   ]
  },
  {
   "cell_type": "code",
   "execution_count": 19,
   "id": "f100675c-1579-4e8e-98fa-ea563dca035c",
   "metadata": {},
   "outputs": [
    {
     "name": "stdout",
     "output_type": "stream",
     "text": [
      "You must install pydot (`pip install pydot`) and install graphviz (see instructions at https://graphviz.gitlab.io/download/) for plot_model to work.\n",
      "Model: \"model_5\"\n",
      "__________________________________________________________________________________________________\n",
      " Layer (type)                Output Shape                 Param #   Connected to                  \n",
      "==================================================================================================\n",
      " input_4 (InputLayer)        [(None, 3)]                  0         []                            \n",
      "                                                                                                  \n",
      " model_3 (Functional)        (None, 3)                    13371     ['input_4[0][0]']             \n",
      "                                                                                                  \n",
      " model_4 (Functional)        (None, 1)                    3469      ['input_4[0][0]']             \n",
      "                                                                                                  \n",
      " concatenate_9 (Concatenate  (None, 4)                    0         ['model_3[0][0]',             \n",
      " )                                                                   'model_4[0][0]']             \n",
      "                                                                                                  \n",
      "==================================================================================================\n",
      "Total params: 16840 (65.78 KB)\n",
      "Trainable params: 16840 (65.78 KB)\n",
      "Non-trainable params: 0 (0.00 Byte)\n",
      "__________________________________________________________________________________________________\n"
     ]
    }
   ],
   "source": [
    "model = prep_parallel_unet()\n",
    "plot_model(model, '12.png', show_shapes=True)\n",
    "model.summary()"
   ]
  },
  {
   "cell_type": "code",
   "execution_count": 20,
   "id": "4b26ab6f-658c-4f0a-8ee1-f23f39f86bba",
   "metadata": {},
   "outputs": [],
   "source": [
    "BATCH_SIZE = 64\n",
    "BUFFER_SIZE = 2000\n",
    "VAL_SIZE = len(train_csv.index) // 7\n",
    "\n",
    "ds = prep_train_data()\n",
    "\n",
    "train_ds = ds.skip(VAL_SIZE).shuffle(BUFFER_SIZE).batch(BATCH_SIZE).prefetch(tf.data.AUTOTUNE)\n",
    "val_ds = ds.take(VAL_SIZE).batch(BATCH_SIZE).prefetch(tf.data.AUTOTUNE)"
   ]
  },
  {
   "cell_type": "code",
   "execution_count": 21,
   "id": "564e4666-b123-4297-8a87-8d4435e330ab",
   "metadata": {},
   "outputs": [],
   "source": [
    "training_folder = os.path.join('dnn', '12')\n",
    "tensoboard_path = os.path.join(training_folder, 'logs_cpu')\n",
    "model_path = os.path.join(training_folder, 'best_cpu')\n",
    "\n",
    "model_callbacks = [\n",
    "    EarlyStopping(patience=20),\n",
    "    ModelCheckpoint(model_path, monitor='val_loss', save_best_only=True, mode='min')\n",
    "]"
   ]
  },
  {
   "cell_type": "code",
   "execution_count": 22,
   "id": "d8cc995c-eff9-415f-a187-8568e5ea022c",
   "metadata": {},
   "outputs": [
    {
     "name": "stdout",
     "output_type": "stream",
     "text": [
      "Epoch 1/200\n"
     ]
    },
    {
     "name": "stdout",
     "output_type": "stream",
     "text": [
      "     83/Unknown - 8s 48ms/step - loss: 0.4859 - rmse: 1.0628INFO:tensorflow:Assets written to: dnn\\12\\best_cpu\\assets\n"
     ]
    },
    {
     "name": "stderr",
     "output_type": "stream",
     "text": [
      "INFO:tensorflow:Assets written to: dnn\\12\\best_cpu\\assets\n"
     ]
    },
    {
     "name": "stdout",
     "output_type": "stream",
     "text": [
      "115/115 [==============================] - 11s 61ms/step - loss: 0.4653 - rmse: 1.0418 - val_loss: 0.3885 - val_rmse: 0.9300\n",
      "Epoch 2/200\n",
      " 83/115 [====================>.........] - ETA: 1s - loss: 0.4213 - rmse: 1.0216INFO:tensorflow:Assets written to: dnn\\12\\best_cpu\\assets\n"
     ]
    },
    {
     "name": "stderr",
     "output_type": "stream",
     "text": [
      "INFO:tensorflow:Assets written to: dnn\\12\\best_cpu\\assets\n"
     ]
    },
    {
     "name": "stdout",
     "output_type": "stream",
     "text": [
      "115/115 [==============================] - 9s 59ms/step - loss: 0.4069 - rmse: 0.9983 - val_loss: 0.3786 - val_rmse: 0.9208\n",
      "Epoch 3/200\n",
      "115/115 [==============================] - 7s 42ms/step - loss: 0.4000 - rmse: 0.9909 - val_loss: 0.3831 - val_rmse: 0.9156\n",
      "Epoch 4/200\n",
      " 83/115 [====================>.........] - ETA: 1s - loss: 0.4008 - rmse: 1.0084INFO:tensorflow:Assets written to: dnn\\12\\best_cpu\\assets\n"
     ]
    },
    {
     "name": "stderr",
     "output_type": "stream",
     "text": [
      "INFO:tensorflow:Assets written to: dnn\\12\\best_cpu\\assets\n"
     ]
    },
    {
     "name": "stdout",
     "output_type": "stream",
     "text": [
      "115/115 [==============================] - 9s 57ms/step - loss: 0.3878 - rmse: 0.9782 - val_loss: 0.3611 - val_rmse: 0.8954\n",
      "Epoch 5/200\n",
      " 83/115 [====================>.........] - ETA: 1s - loss: 0.3734 - rmse: 0.9674INFO:tensorflow:Assets written to: dnn\\12\\best_cpu\\assets\n"
     ]
    },
    {
     "name": "stderr",
     "output_type": "stream",
     "text": [
      "INFO:tensorflow:Assets written to: dnn\\12\\best_cpu\\assets\n"
     ]
    },
    {
     "name": "stdout",
     "output_type": "stream",
     "text": [
      "115/115 [==============================] - 9s 57ms/step - loss: 0.3692 - rmse: 0.9568 - val_loss: 0.3371 - val_rmse: 0.8646\n",
      "Epoch 6/200\n",
      " 83/115 [====================>.........] - ETA: 1s - loss: 0.3501 - rmse: 0.9348INFO:tensorflow:Assets written to: dnn\\12\\best_cpu\\assets\n"
     ]
    },
    {
     "name": "stderr",
     "output_type": "stream",
     "text": [
      "INFO:tensorflow:Assets written to: dnn\\12\\best_cpu\\assets\n"
     ]
    },
    {
     "name": "stdout",
     "output_type": "stream",
     "text": [
      "115/115 [==============================] - 9s 57ms/step - loss: 0.3495 - rmse: 0.9270 - val_loss: 0.3236 - val_rmse: 0.8369\n",
      "Epoch 7/200\n",
      " 83/115 [====================>.........] - ETA: 1s - loss: 0.3316 - rmse: 0.9070INFO:tensorflow:Assets written to: dnn\\12\\best_cpu\\assets\n"
     ]
    },
    {
     "name": "stderr",
     "output_type": "stream",
     "text": [
      "INFO:tensorflow:Assets written to: dnn\\12\\best_cpu\\assets\n"
     ]
    },
    {
     "name": "stdout",
     "output_type": "stream",
     "text": [
      "115/115 [==============================] - 9s 55ms/step - loss: 0.3318 - rmse: 0.8983 - val_loss: 0.3087 - val_rmse: 0.8064\n",
      "Epoch 8/200\n",
      "111/115 [===========================>..] - ETA: 0s - loss: 0.3153 - rmse: 0.8746INFO:tensorflow:Assets written to: dnn\\12\\best_cpu\\assets\n"
     ]
    },
    {
     "name": "stderr",
     "output_type": "stream",
     "text": [
      "INFO:tensorflow:Assets written to: dnn\\12\\best_cpu\\assets\n"
     ]
    },
    {
     "name": "stdout",
     "output_type": "stream",
     "text": [
      "115/115 [==============================] - 9s 60ms/step - loss: 0.3139 - rmse: 0.8693 - val_loss: 0.2887 - val_rmse: 0.7708\n",
      "Epoch 9/200\n",
      "112/115 [============================>.] - ETA: 0s - loss: 0.2924 - rmse: 0.8328INFO:tensorflow:Assets written to: dnn\\12\\best_cpu\\assets\n"
     ]
    },
    {
     "name": "stderr",
     "output_type": "stream",
     "text": [
      "INFO:tensorflow:Assets written to: dnn\\12\\best_cpu\\assets\n"
     ]
    },
    {
     "name": "stdout",
     "output_type": "stream",
     "text": [
      "115/115 [==============================] - 9s 56ms/step - loss: 0.2949 - rmse: 0.8419 - val_loss: 0.2738 - val_rmse: 0.7429\n",
      "Epoch 10/200\n",
      "113/115 [============================>.] - ETA: 0s - loss: 0.2811 - rmse: 0.8161INFO:tensorflow:Assets written to: dnn\\12\\best_cpu\\assets\n"
     ]
    },
    {
     "name": "stderr",
     "output_type": "stream",
     "text": [
      "INFO:tensorflow:Assets written to: dnn\\12\\best_cpu\\assets\n"
     ]
    },
    {
     "name": "stdout",
     "output_type": "stream",
     "text": [
      "115/115 [==============================] - 9s 59ms/step - loss: 0.2812 - rmse: 0.8156 - val_loss: 0.2628 - val_rmse: 0.7207\n",
      "Epoch 11/200\n",
      " 83/115 [====================>.........] - ETA: 1s - loss: 0.2685 - rmse: 0.7964INFO:tensorflow:Assets written to: dnn\\12\\best_cpu\\assets\n"
     ]
    },
    {
     "name": "stderr",
     "output_type": "stream",
     "text": [
      "INFO:tensorflow:Assets written to: dnn\\12\\best_cpu\\assets\n"
     ]
    },
    {
     "name": "stdout",
     "output_type": "stream",
     "text": [
      "115/115 [==============================] - 9s 56ms/step - loss: 0.2690 - rmse: 0.7890 - val_loss: 0.2452 - val_rmse: 0.6849\n",
      "Epoch 12/200\n",
      "115/115 [==============================] - ETA: 0s - loss: 0.2574 - rmse: 0.7608INFO:tensorflow:Assets written to: dnn\\12\\best_cpu\\assets\n"
     ]
    },
    {
     "name": "stderr",
     "output_type": "stream",
     "text": [
      "INFO:tensorflow:Assets written to: dnn\\12\\best_cpu\\assets\n"
     ]
    },
    {
     "name": "stdout",
     "output_type": "stream",
     "text": [
      "115/115 [==============================] - 9s 57ms/step - loss: 0.2574 - rmse: 0.7608 - val_loss: 0.2382 - val_rmse: 0.6641\n",
      "Epoch 13/200\n",
      "112/115 [============================>.] - ETA: 0s - loss: 0.2466 - rmse: 0.7435INFO:tensorflow:Assets written to: dnn\\12\\best_cpu\\assets\n"
     ]
    },
    {
     "name": "stderr",
     "output_type": "stream",
     "text": [
      "INFO:tensorflow:Assets written to: dnn\\12\\best_cpu\\assets\n"
     ]
    },
    {
     "name": "stdout",
     "output_type": "stream",
     "text": [
      "115/115 [==============================] - 9s 61ms/step - loss: 0.2453 - rmse: 0.7397 - val_loss: 0.2317 - val_rmse: 0.6495\n",
      "Epoch 14/200\n",
      "114/115 [============================>.] - ETA: 0s - loss: 0.2367 - rmse: 0.7228INFO:tensorflow:Assets written to: dnn\\12\\best_cpu\\assets\n"
     ]
    },
    {
     "name": "stderr",
     "output_type": "stream",
     "text": [
      "INFO:tensorflow:Assets written to: dnn\\12\\best_cpu\\assets\n"
     ]
    },
    {
     "name": "stdout",
     "output_type": "stream",
     "text": [
      "115/115 [==============================] - 9s 59ms/step - loss: 0.2367 - rmse: 0.7226 - val_loss: 0.2184 - val_rmse: 0.6266\n",
      "Epoch 15/200\n",
      " 83/115 [====================>.........] - ETA: 1s - loss: 0.2328 - rmse: 0.7296INFO:tensorflow:Assets written to: dnn\\12\\best_cpu\\assets\n"
     ]
    },
    {
     "name": "stderr",
     "output_type": "stream",
     "text": [
      "INFO:tensorflow:Assets written to: dnn\\12\\best_cpu\\assets\n"
     ]
    },
    {
     "name": "stdout",
     "output_type": "stream",
     "text": [
      "115/115 [==============================] - 9s 59ms/step - loss: 0.2273 - rmse: 0.7086 - val_loss: 0.2166 - val_rmse: 0.6255\n",
      "Epoch 16/200\n",
      " 85/115 [=====================>........] - ETA: 1s - loss: 0.2243 - rmse: 0.6984INFO:tensorflow:Assets written to: dnn\\12\\best_cpu\\assets\n"
     ]
    },
    {
     "name": "stderr",
     "output_type": "stream",
     "text": [
      "INFO:tensorflow:Assets written to: dnn\\12\\best_cpu\\assets\n"
     ]
    },
    {
     "name": "stdout",
     "output_type": "stream",
     "text": [
      "115/115 [==============================] - 9s 59ms/step - loss: 0.2220 - rmse: 0.6951 - val_loss: 0.2097 - val_rmse: 0.6096\n",
      "Epoch 17/200\n",
      "115/115 [==============================] - ETA: 0s - loss: 0.2187 - rmse: 0.6869INFO:tensorflow:Assets written to: dnn\\12\\best_cpu\\assets\n"
     ]
    },
    {
     "name": "stderr",
     "output_type": "stream",
     "text": [
      "INFO:tensorflow:Assets written to: dnn\\12\\best_cpu\\assets\n"
     ]
    },
    {
     "name": "stdout",
     "output_type": "stream",
     "text": [
      "115/115 [==============================] - 9s 57ms/step - loss: 0.2187 - rmse: 0.6869 - val_loss: 0.2022 - val_rmse: 0.5960\n",
      "Epoch 18/200\n",
      " 83/115 [====================>.........] - ETA: 1s - loss: 0.2141 - rmse: 0.6988INFO:tensorflow:Assets written to: dnn\\12\\best_cpu\\assets\n"
     ]
    },
    {
     "name": "stderr",
     "output_type": "stream",
     "text": [
      "INFO:tensorflow:Assets written to: dnn\\12\\best_cpu\\assets\n"
     ]
    },
    {
     "name": "stdout",
     "output_type": "stream",
     "text": [
      "115/115 [==============================] - 9s 58ms/step - loss: 0.2110 - rmse: 0.6721 - val_loss: 0.1999 - val_rmse: 0.5944\n",
      "Epoch 19/200\n",
      " 83/115 [====================>.........] - ETA: 1s - loss: 0.2127 - rmse: 0.6823INFO:tensorflow:Assets written to: dnn\\12\\best_cpu\\assets\n"
     ]
    },
    {
     "name": "stderr",
     "output_type": "stream",
     "text": [
      "INFO:tensorflow:Assets written to: dnn\\12\\best_cpu\\assets\n"
     ]
    },
    {
     "name": "stdout",
     "output_type": "stream",
     "text": [
      "115/115 [==============================] - 9s 57ms/step - loss: 0.2084 - rmse: 0.6587 - val_loss: 0.1961 - val_rmse: 0.5762\n",
      "Epoch 20/200\n",
      "111/115 [===========================>..] - ETA: 0s - loss: 0.2014 - rmse: 0.6459INFO:tensorflow:Assets written to: dnn\\12\\best_cpu\\assets\n"
     ]
    },
    {
     "name": "stderr",
     "output_type": "stream",
     "text": [
      "INFO:tensorflow:Assets written to: dnn\\12\\best_cpu\\assets\n"
     ]
    },
    {
     "name": "stdout",
     "output_type": "stream",
     "text": [
      "115/115 [==============================] - 9s 59ms/step - loss: 0.2012 - rmse: 0.6451 - val_loss: 0.1956 - val_rmse: 0.5586\n",
      "Epoch 21/200\n",
      "112/115 [============================>.] - ETA: 0s - loss: 0.1956 - rmse: 0.6295INFO:tensorflow:Assets written to: dnn\\12\\best_cpu\\assets\n"
     ]
    },
    {
     "name": "stderr",
     "output_type": "stream",
     "text": [
      "INFO:tensorflow:Assets written to: dnn\\12\\best_cpu\\assets\n"
     ]
    },
    {
     "name": "stdout",
     "output_type": "stream",
     "text": [
      "115/115 [==============================] - 10s 63ms/step - loss: 0.1959 - rmse: 0.6292 - val_loss: 0.1869 - val_rmse: 0.5507\n",
      "Epoch 22/200\n",
      "114/115 [============================>.] - ETA: 0s - loss: 0.1915 - rmse: 0.6138INFO:tensorflow:Assets written to: dnn\\12\\best_cpu\\assets\n"
     ]
    },
    {
     "name": "stderr",
     "output_type": "stream",
     "text": [
      "INFO:tensorflow:Assets written to: dnn\\12\\best_cpu\\assets\n"
     ]
    },
    {
     "name": "stdout",
     "output_type": "stream",
     "text": [
      "115/115 [==============================] - 9s 60ms/step - loss: 0.1911 - rmse: 0.6130 - val_loss: 0.1766 - val_rmse: 0.5283\n",
      "Epoch 23/200\n",
      "114/115 [============================>.] - ETA: 0s - loss: 0.1892 - rmse: 0.6002INFO:tensorflow:Assets written to: dnn\\12\\best_cpu\\assets\n"
     ]
    },
    {
     "name": "stderr",
     "output_type": "stream",
     "text": [
      "INFO:tensorflow:Assets written to: dnn\\12\\best_cpu\\assets\n"
     ]
    },
    {
     "name": "stdout",
     "output_type": "stream",
     "text": [
      "115/115 [==============================] - 9s 61ms/step - loss: 0.1891 - rmse: 0.5998 - val_loss: 0.1753 - val_rmse: 0.5158\n",
      "Epoch 24/200\n",
      " 84/115 [====================>.........] - ETA: 1s - loss: 0.1858 - rmse: 0.5979INFO:tensorflow:Assets written to: dnn\\12\\best_cpu\\assets\n"
     ]
    },
    {
     "name": "stderr",
     "output_type": "stream",
     "text": [
      "INFO:tensorflow:Assets written to: dnn\\12\\best_cpu\\assets\n"
     ]
    },
    {
     "name": "stdout",
     "output_type": "stream",
     "text": [
      "115/115 [==============================] - 9s 61ms/step - loss: 0.1837 - rmse: 0.5890 - val_loss: 0.1736 - val_rmse: 0.5046\n",
      "Epoch 25/200\n",
      "115/115 [==============================] - ETA: 0s - loss: 0.1791 - rmse: 0.5740INFO:tensorflow:Assets written to: dnn\\12\\best_cpu\\assets\n"
     ]
    },
    {
     "name": "stderr",
     "output_type": "stream",
     "text": [
      "INFO:tensorflow:Assets written to: dnn\\12\\best_cpu\\assets\n"
     ]
    },
    {
     "name": "stdout",
     "output_type": "stream",
     "text": [
      "115/115 [==============================] - 9s 59ms/step - loss: 0.1791 - rmse: 0.5740 - val_loss: 0.1705 - val_rmse: 0.5013\n",
      "Epoch 26/200\n",
      "114/115 [============================>.] - ETA: 0s - loss: 0.1778 - rmse: 0.5665INFO:tensorflow:Assets written to: dnn\\12\\best_cpu\\assets\n"
     ]
    },
    {
     "name": "stderr",
     "output_type": "stream",
     "text": [
      "INFO:tensorflow:Assets written to: dnn\\12\\best_cpu\\assets\n"
     ]
    },
    {
     "name": "stdout",
     "output_type": "stream",
     "text": [
      "115/115 [==============================] - 10s 62ms/step - loss: 0.1776 - rmse: 0.5660 - val_loss: 0.1678 - val_rmse: 0.4929\n",
      "Epoch 27/200\n",
      " 84/115 [====================>.........] - ETA: 1s - loss: 0.1790 - rmse: 0.5818INFO:tensorflow:Assets written to: dnn\\12\\best_cpu\\assets\n"
     ]
    },
    {
     "name": "stderr",
     "output_type": "stream",
     "text": [
      "INFO:tensorflow:Assets written to: dnn\\12\\best_cpu\\assets\n"
     ]
    },
    {
     "name": "stdout",
     "output_type": "stream",
     "text": [
      "115/115 [==============================] - 9s 57ms/step - loss: 0.1736 - rmse: 0.5561 - val_loss: 0.1630 - val_rmse: 0.4815\n",
      "Epoch 28/200\n",
      "114/115 [============================>.] - ETA: 0s - loss: 0.1693 - rmse: 0.5478INFO:tensorflow:Assets written to: dnn\\12\\best_cpu\\assets\n"
     ]
    },
    {
     "name": "stderr",
     "output_type": "stream",
     "text": [
      "INFO:tensorflow:Assets written to: dnn\\12\\best_cpu\\assets\n"
     ]
    },
    {
     "name": "stdout",
     "output_type": "stream",
     "text": [
      "115/115 [==============================] - 9s 58ms/step - loss: 0.1694 - rmse: 0.5475 - val_loss: 0.1615 - val_rmse: 0.4759\n",
      "Epoch 29/200\n",
      " 86/115 [=====================>........] - ETA: 1s - loss: 0.1746 - rmse: 0.5747INFO:tensorflow:Assets written to: dnn\\12\\best_cpu\\assets\n"
     ]
    },
    {
     "name": "stderr",
     "output_type": "stream",
     "text": [
      "INFO:tensorflow:Assets written to: dnn\\12\\best_cpu\\assets\n"
     ]
    },
    {
     "name": "stdout",
     "output_type": "stream",
     "text": [
      "115/115 [==============================] - 9s 59ms/step - loss: 0.1648 - rmse: 0.5364 - val_loss: 0.1601 - val_rmse: 0.4711\n",
      "Epoch 30/200\n",
      "115/115 [==============================] - 7s 43ms/step - loss: 0.1623 - rmse: 0.5307 - val_loss: 0.1604 - val_rmse: 0.4662\n",
      "Epoch 31/200\n",
      "115/115 [==============================] - 7s 43ms/step - loss: 0.1601 - rmse: 0.5205 - val_loss: 0.1658 - val_rmse: 0.4697\n",
      "Epoch 32/200\n",
      " 83/115 [====================>.........] - ETA: 1s - loss: 0.1603 - rmse: 0.5202INFO:tensorflow:Assets written to: dnn\\12\\best_cpu\\assets\n"
     ]
    },
    {
     "name": "stderr",
     "output_type": "stream",
     "text": [
      "INFO:tensorflow:Assets written to: dnn\\12\\best_cpu\\assets\n"
     ]
    },
    {
     "name": "stdout",
     "output_type": "stream",
     "text": [
      "115/115 [==============================] - 9s 58ms/step - loss: 0.1577 - rmse: 0.5150 - val_loss: 0.1560 - val_rmse: 0.4568\n",
      "Epoch 33/200\n",
      "115/115 [==============================] - 8s 45ms/step - loss: 0.1565 - rmse: 0.5113 - val_loss: 0.1637 - val_rmse: 0.4631\n",
      "Epoch 34/200\n",
      "114/115 [============================>.] - ETA: 0s - loss: 0.1556 - rmse: 0.5000INFO:tensorflow:Assets written to: dnn\\12\\best_cpu\\assets\n"
     ]
    },
    {
     "name": "stderr",
     "output_type": "stream",
     "text": [
      "INFO:tensorflow:Assets written to: dnn\\12\\best_cpu\\assets\n"
     ]
    },
    {
     "name": "stdout",
     "output_type": "stream",
     "text": [
      "115/115 [==============================] - 9s 61ms/step - loss: 0.1556 - rmse: 0.4996 - val_loss: 0.1500 - val_rmse: 0.4422\n",
      "Epoch 35/200\n",
      "115/115 [==============================] - 7s 43ms/step - loss: 0.1541 - rmse: 0.4965 - val_loss: 0.1507 - val_rmse: 0.4395\n",
      "Epoch 36/200\n",
      "115/115 [==============================] - 8s 45ms/step - loss: 0.1502 - rmse: 0.4919 - val_loss: 0.1561 - val_rmse: 0.4412\n",
      "Epoch 37/200\n",
      " 84/115 [====================>.........] - ETA: 1s - loss: 0.1494 - rmse: 0.4906INFO:tensorflow:Assets written to: dnn\\12\\best_cpu\\assets\n"
     ]
    },
    {
     "name": "stderr",
     "output_type": "stream",
     "text": [
      "INFO:tensorflow:Assets written to: dnn\\12\\best_cpu\\assets\n"
     ]
    },
    {
     "name": "stdout",
     "output_type": "stream",
     "text": [
      "115/115 [==============================] - 9s 58ms/step - loss: 0.1514 - rmse: 0.4896 - val_loss: 0.1495 - val_rmse: 0.4316\n",
      "Epoch 38/200\n",
      " 83/115 [====================>.........] - ETA: 1s - loss: 0.1492 - rmse: 0.4978INFO:tensorflow:Assets written to: dnn\\12\\best_cpu\\assets\n"
     ]
    },
    {
     "name": "stderr",
     "output_type": "stream",
     "text": [
      "INFO:tensorflow:Assets written to: dnn\\12\\best_cpu\\assets\n"
     ]
    },
    {
     "name": "stdout",
     "output_type": "stream",
     "text": [
      "115/115 [==============================] - 9s 58ms/step - loss: 0.1473 - rmse: 0.4808 - val_loss: 0.1466 - val_rmse: 0.4296\n",
      "Epoch 39/200\n",
      "115/115 [==============================] - 7s 42ms/step - loss: 0.1447 - rmse: 0.4759 - val_loss: 0.1473 - val_rmse: 0.4237\n",
      "Epoch 40/200\n",
      "112/115 [============================>.] - ETA: 0s - loss: 0.1456 - rmse: 0.4704INFO:tensorflow:Assets written to: dnn\\12\\best_cpu\\assets\n"
     ]
    },
    {
     "name": "stderr",
     "output_type": "stream",
     "text": [
      "INFO:tensorflow:Assets written to: dnn\\12\\best_cpu\\assets\n"
     ]
    },
    {
     "name": "stdout",
     "output_type": "stream",
     "text": [
      "115/115 [==============================] - 9s 62ms/step - loss: 0.1450 - rmse: 0.4702 - val_loss: 0.1453 - val_rmse: 0.4169\n",
      "Epoch 41/200\n",
      "115/115 [==============================] - 7s 42ms/step - loss: 0.1423 - rmse: 0.4637 - val_loss: 0.1481 - val_rmse: 0.4216\n",
      "Epoch 42/200\n",
      "110/115 [===========================>..] - ETA: 0s - loss: 0.1421 - rmse: 0.4663INFO:tensorflow:Assets written to: dnn\\12\\best_cpu\\assets\n"
     ]
    },
    {
     "name": "stderr",
     "output_type": "stream",
     "text": [
      "INFO:tensorflow:Assets written to: dnn\\12\\best_cpu\\assets\n"
     ]
    },
    {
     "name": "stdout",
     "output_type": "stream",
     "text": [
      "115/115 [==============================] - 9s 58ms/step - loss: 0.1421 - rmse: 0.4628 - val_loss: 0.1392 - val_rmse: 0.4083\n",
      "Epoch 43/200\n",
      "115/115 [==============================] - 7s 43ms/step - loss: 0.1384 - rmse: 0.4560 - val_loss: 0.1423 - val_rmse: 0.4102\n",
      "Epoch 44/200\n",
      "114/115 [============================>.] - ETA: 0s - loss: 0.1378 - rmse: 0.4528INFO:tensorflow:Assets written to: dnn\\12\\best_cpu\\assets\n"
     ]
    },
    {
     "name": "stderr",
     "output_type": "stream",
     "text": [
      "INFO:tensorflow:Assets written to: dnn\\12\\best_cpu\\assets\n"
     ]
    },
    {
     "name": "stdout",
     "output_type": "stream",
     "text": [
      "115/115 [==============================] - 9s 60ms/step - loss: 0.1383 - rmse: 0.4559 - val_loss: 0.1373 - val_rmse: 0.4066\n",
      "Epoch 45/200\n",
      "115/115 [==============================] - 7s 42ms/step - loss: 0.1360 - rmse: 0.4485 - val_loss: 0.1427 - val_rmse: 0.4092\n",
      "Epoch 46/200\n",
      "115/115 [==============================] - 7s 43ms/step - loss: 0.1353 - rmse: 0.4485 - val_loss: 0.1397 - val_rmse: 0.4038\n",
      "Epoch 47/200\n",
      "115/115 [==============================] - 7s 42ms/step - loss: 0.1382 - rmse: 0.4429 - val_loss: 0.1379 - val_rmse: 0.3987\n",
      "Epoch 48/200\n",
      " 83/115 [====================>.........] - ETA: 1s - loss: 0.1349 - rmse: 0.4454INFO:tensorflow:Assets written to: dnn\\12\\best_cpu\\assets\n"
     ]
    },
    {
     "name": "stderr",
     "output_type": "stream",
     "text": [
      "INFO:tensorflow:Assets written to: dnn\\12\\best_cpu\\assets\n"
     ]
    },
    {
     "name": "stdout",
     "output_type": "stream",
     "text": [
      "115/115 [==============================] - 9s 58ms/step - loss: 0.1329 - rmse: 0.4397 - val_loss: 0.1358 - val_rmse: 0.3985\n",
      "Epoch 49/200\n",
      " 83/115 [====================>.........] - ETA: 1s - loss: 0.1369 - rmse: 0.4647INFO:tensorflow:Assets written to: dnn\\12\\best_cpu\\assets\n"
     ]
    },
    {
     "name": "stderr",
     "output_type": "stream",
     "text": [
      "INFO:tensorflow:Assets written to: dnn\\12\\best_cpu\\assets\n"
     ]
    },
    {
     "name": "stdout",
     "output_type": "stream",
     "text": [
      "115/115 [==============================] - 9s 57ms/step - loss: 0.1321 - rmse: 0.4347 - val_loss: 0.1340 - val_rmse: 0.3952\n",
      "Epoch 50/200\n",
      "115/115 [==============================] - 7s 42ms/step - loss: 0.1312 - rmse: 0.4355 - val_loss: 0.1404 - val_rmse: 0.4070\n",
      "Epoch 51/200\n",
      "115/115 [==============================] - 7s 42ms/step - loss: 0.1335 - rmse: 0.4386 - val_loss: 0.1375 - val_rmse: 0.3962\n",
      "Epoch 52/200\n",
      "115/115 [==============================] - 7s 43ms/step - loss: 0.1310 - rmse: 0.4317 - val_loss: 0.1389 - val_rmse: 0.4045\n",
      "Epoch 53/200\n",
      "115/115 [==============================] - 7s 42ms/step - loss: 0.1326 - rmse: 0.4350 - val_loss: 0.1372 - val_rmse: 0.3959\n",
      "Epoch 54/200\n",
      "115/115 [==============================] - 7s 42ms/step - loss: 0.1289 - rmse: 0.4258 - val_loss: 0.1388 - val_rmse: 0.3935\n",
      "Epoch 55/200\n",
      " 84/115 [====================>.........] - ETA: 1s - loss: 0.1347 - rmse: 0.4575INFO:tensorflow:Assets written to: dnn\\12\\best_cpu\\assets\n"
     ]
    },
    {
     "name": "stderr",
     "output_type": "stream",
     "text": [
      "INFO:tensorflow:Assets written to: dnn\\12\\best_cpu\\assets\n"
     ]
    },
    {
     "name": "stdout",
     "output_type": "stream",
     "text": [
      "115/115 [==============================] - 9s 58ms/step - loss: 0.1290 - rmse: 0.4247 - val_loss: 0.1267 - val_rmse: 0.3813\n",
      "Epoch 56/200\n",
      "115/115 [==============================] - 7s 42ms/step - loss: 0.1282 - rmse: 0.4227 - val_loss: 0.1286 - val_rmse: 0.3821\n",
      "Epoch 57/200\n",
      "115/115 [==============================] - 7s 42ms/step - loss: 0.1250 - rmse: 0.4202 - val_loss: 0.1292 - val_rmse: 0.3832\n",
      "Epoch 58/200\n",
      "115/115 [==============================] - 7s 43ms/step - loss: 0.1269 - rmse: 0.4228 - val_loss: 0.1318 - val_rmse: 0.3928\n",
      "Epoch 59/200\n",
      "115/115 [==============================] - 7s 43ms/step - loss: 0.1249 - rmse: 0.4175 - val_loss: 0.1285 - val_rmse: 0.3810\n",
      "Epoch 60/200\n",
      "115/115 [==============================] - 8s 44ms/step - loss: 0.1266 - rmse: 0.4202 - val_loss: 0.1281 - val_rmse: 0.3842\n",
      "Epoch 61/200\n",
      "115/115 [==============================] - 7s 42ms/step - loss: 0.1241 - rmse: 0.4164 - val_loss: 0.1336 - val_rmse: 0.3915\n",
      "Epoch 62/200\n",
      "115/115 [==============================] - 7s 43ms/step - loss: 0.1231 - rmse: 0.4085 - val_loss: 0.1339 - val_rmse: 0.3890\n",
      "Epoch 63/200\n",
      "114/115 [============================>.] - ETA: 0s - loss: 0.1233 - rmse: 0.4134INFO:tensorflow:Assets written to: dnn\\12\\best_cpu\\assets\n"
     ]
    },
    {
     "name": "stderr",
     "output_type": "stream",
     "text": [
      "INFO:tensorflow:Assets written to: dnn\\12\\best_cpu\\assets\n"
     ]
    },
    {
     "name": "stdout",
     "output_type": "stream",
     "text": [
      "115/115 [==============================] - 9s 57ms/step - loss: 0.1232 - rmse: 0.4130 - val_loss: 0.1250 - val_rmse: 0.3717\n",
      "Epoch 64/200\n",
      "115/115 [==============================] - 7s 42ms/step - loss: 0.1238 - rmse: 0.4098 - val_loss: 0.1272 - val_rmse: 0.3728\n",
      "Epoch 65/200\n",
      "115/115 [==============================] - 7s 43ms/step - loss: 0.1207 - rmse: 0.4047 - val_loss: 0.1294 - val_rmse: 0.3917\n",
      "Epoch 66/200\n",
      "115/115 [==============================] - 7s 44ms/step - loss: 0.1221 - rmse: 0.4059 - val_loss: 0.1334 - val_rmse: 0.3923\n",
      "Epoch 67/200\n",
      " 83/115 [====================>.........] - ETA: 1s - loss: 0.1240 - rmse: 0.4147INFO:tensorflow:Assets written to: dnn\\12\\best_cpu\\assets\n"
     ]
    },
    {
     "name": "stderr",
     "output_type": "stream",
     "text": [
      "INFO:tensorflow:Assets written to: dnn\\12\\best_cpu\\assets\n"
     ]
    },
    {
     "name": "stdout",
     "output_type": "stream",
     "text": [
      "115/115 [==============================] - 9s 60ms/step - loss: 0.1227 - rmse: 0.4046 - val_loss: 0.1247 - val_rmse: 0.3646\n",
      "Epoch 68/200\n",
      "115/115 [==============================] - 7s 44ms/step - loss: 0.1198 - rmse: 0.3997 - val_loss: 0.1257 - val_rmse: 0.3776\n",
      "Epoch 69/200\n",
      " 83/115 [====================>.........] - ETA: 1s - loss: 0.1252 - rmse: 0.4398INFO:tensorflow:Assets written to: dnn\\12\\best_cpu\\assets\n"
     ]
    },
    {
     "name": "stderr",
     "output_type": "stream",
     "text": [
      "INFO:tensorflow:Assets written to: dnn\\12\\best_cpu\\assets\n"
     ]
    },
    {
     "name": "stdout",
     "output_type": "stream",
     "text": [
      "115/115 [==============================] - 9s 57ms/step - loss: 0.1185 - rmse: 0.4006 - val_loss: 0.1232 - val_rmse: 0.3757\n",
      "Epoch 70/200\n",
      "115/115 [==============================] - 7s 42ms/step - loss: 0.1172 - rmse: 0.3999 - val_loss: 0.1266 - val_rmse: 0.3679\n",
      "Epoch 71/200\n",
      "114/115 [============================>.] - ETA: 0s - loss: 0.1185 - rmse: 0.4007INFO:tensorflow:Assets written to: dnn\\12\\best_cpu\\assets\n"
     ]
    },
    {
     "name": "stderr",
     "output_type": "stream",
     "text": [
      "INFO:tensorflow:Assets written to: dnn\\12\\best_cpu\\assets\n"
     ]
    },
    {
     "name": "stdout",
     "output_type": "stream",
     "text": [
      "115/115 [==============================] - 9s 57ms/step - loss: 0.1184 - rmse: 0.4003 - val_loss: 0.1204 - val_rmse: 0.3651\n",
      "Epoch 72/200\n",
      " 84/115 [====================>.........] - ETA: 1s - loss: 0.1201 - rmse: 0.4198INFO:tensorflow:Assets written to: dnn\\12\\best_cpu\\assets\n"
     ]
    },
    {
     "name": "stderr",
     "output_type": "stream",
     "text": [
      "INFO:tensorflow:Assets written to: dnn\\12\\best_cpu\\assets\n"
     ]
    },
    {
     "name": "stdout",
     "output_type": "stream",
     "text": [
      "115/115 [==============================] - 9s 60ms/step - loss: 0.1162 - rmse: 0.3957 - val_loss: 0.1201 - val_rmse: 0.3708\n",
      "Epoch 73/200\n",
      "115/115 [==============================] - 7s 43ms/step - loss: 0.1162 - rmse: 0.3972 - val_loss: 0.1254 - val_rmse: 0.3674\n",
      "Epoch 74/200\n",
      "115/115 [==============================] - 7s 43ms/step - loss: 0.1172 - rmse: 0.3937 - val_loss: 0.1213 - val_rmse: 0.3635\n",
      "Epoch 75/200\n",
      "115/115 [==============================] - 7s 43ms/step - loss: 0.1174 - rmse: 0.3901 - val_loss: 0.1252 - val_rmse: 0.3908\n",
      "Epoch 76/200\n",
      " 84/115 [====================>.........] - ETA: 1s - loss: 0.1199 - rmse: 0.3930INFO:tensorflow:Assets written to: dnn\\12\\best_cpu\\assets\n"
     ]
    },
    {
     "name": "stderr",
     "output_type": "stream",
     "text": [
      "INFO:tensorflow:Assets written to: dnn\\12\\best_cpu\\assets\n"
     ]
    },
    {
     "name": "stdout",
     "output_type": "stream",
     "text": [
      "115/115 [==============================] - 9s 57ms/step - loss: 0.1170 - rmse: 0.3946 - val_loss: 0.1163 - val_rmse: 0.3571\n",
      "Epoch 77/200\n",
      "115/115 [==============================] - 7s 42ms/step - loss: 0.1155 - rmse: 0.3891 - val_loss: 0.1314 - val_rmse: 0.3880\n",
      "Epoch 78/200\n",
      "115/115 [==============================] - 7s 43ms/step - loss: 0.1156 - rmse: 0.3922 - val_loss: 0.1172 - val_rmse: 0.3576\n",
      "Epoch 79/200\n",
      "115/115 [==============================] - 7s 43ms/step - loss: 0.1143 - rmse: 0.3860 - val_loss: 0.1214 - val_rmse: 0.3672\n",
      "Epoch 80/200\n",
      "115/115 [==============================] - 7s 44ms/step - loss: 0.1167 - rmse: 0.3864 - val_loss: 0.1203 - val_rmse: 0.3647\n",
      "Epoch 81/200\n",
      " 83/115 [====================>.........] - ETA: 1s - loss: 0.1139 - rmse: 0.3868INFO:tensorflow:Assets written to: dnn\\12\\best_cpu\\assets\n"
     ]
    },
    {
     "name": "stderr",
     "output_type": "stream",
     "text": [
      "INFO:tensorflow:Assets written to: dnn\\12\\best_cpu\\assets\n"
     ]
    },
    {
     "name": "stdout",
     "output_type": "stream",
     "text": [
      "115/115 [==============================] - 9s 59ms/step - loss: 0.1138 - rmse: 0.3852 - val_loss: 0.1135 - val_rmse: 0.3586\n",
      "Epoch 82/200\n",
      "115/115 [==============================] - 8s 45ms/step - loss: 0.1112 - rmse: 0.3844 - val_loss: 0.1195 - val_rmse: 0.3667\n",
      "Epoch 83/200\n",
      "115/115 [==============================] - 7s 43ms/step - loss: 0.1115 - rmse: 0.3820 - val_loss: 0.1161 - val_rmse: 0.3628\n",
      "Epoch 84/200\n",
      "115/115 [==============================] - 7s 42ms/step - loss: 0.1145 - rmse: 0.3847 - val_loss: 0.1181 - val_rmse: 0.3526\n",
      "Epoch 85/200\n",
      "115/115 [==============================] - 7s 42ms/step - loss: 0.1127 - rmse: 0.3822 - val_loss: 0.1149 - val_rmse: 0.3560\n",
      "Epoch 86/200\n",
      "115/115 [==============================] - 7s 43ms/step - loss: 0.1130 - rmse: 0.3840 - val_loss: 0.1144 - val_rmse: 0.3630\n",
      "Epoch 87/200\n",
      "115/115 [==============================] - 7s 42ms/step - loss: 0.1105 - rmse: 0.3815 - val_loss: 0.1138 - val_rmse: 0.3596\n",
      "Epoch 88/200\n",
      "103/115 [=========================>....] - ETA: 0s - loss: 0.1096 - rmse: 0.3735INFO:tensorflow:Assets written to: dnn\\12\\best_cpu\\assets\n"
     ]
    },
    {
     "name": "stderr",
     "output_type": "stream",
     "text": [
      "INFO:tensorflow:Assets written to: dnn\\12\\best_cpu\\assets\n"
     ]
    },
    {
     "name": "stdout",
     "output_type": "stream",
     "text": [
      "115/115 [==============================] - 9s 58ms/step - loss: 0.1087 - rmse: 0.3740 - val_loss: 0.1099 - val_rmse: 0.3492\n",
      "Epoch 89/200\n",
      "115/115 [==============================] - 7s 42ms/step - loss: 0.1087 - rmse: 0.3746 - val_loss: 0.1214 - val_rmse: 0.3711\n",
      "Epoch 90/200\n",
      "115/115 [==============================] - 7s 42ms/step - loss: 0.1094 - rmse: 0.3759 - val_loss: 0.1162 - val_rmse: 0.3473\n",
      "Epoch 91/200\n",
      "115/115 [==============================] - 7s 42ms/step - loss: 0.1120 - rmse: 0.3801 - val_loss: 0.1163 - val_rmse: 0.3545\n",
      "Epoch 92/200\n",
      "115/115 [==============================] - 7s 42ms/step - loss: 0.1080 - rmse: 0.3719 - val_loss: 0.1188 - val_rmse: 0.3816\n",
      "Epoch 93/200\n",
      "115/115 [==============================] - 7s 42ms/step - loss: 0.1083 - rmse: 0.3755 - val_loss: 0.1171 - val_rmse: 0.3628\n",
      "Epoch 94/200\n",
      "115/115 [==============================] - 7s 42ms/step - loss: 0.1096 - rmse: 0.3738 - val_loss: 0.1146 - val_rmse: 0.3505\n",
      "Epoch 95/200\n",
      "115/115 [==============================] - 7s 42ms/step - loss: 0.1103 - rmse: 0.3750 - val_loss: 0.1131 - val_rmse: 0.3466\n",
      "Epoch 96/200\n",
      " 83/115 [====================>.........] - ETA: 1s - loss: 0.1109 - rmse: 0.3870INFO:tensorflow:Assets written to: dnn\\12\\best_cpu\\assets\n"
     ]
    },
    {
     "name": "stderr",
     "output_type": "stream",
     "text": [
      "INFO:tensorflow:Assets written to: dnn\\12\\best_cpu\\assets\n"
     ]
    },
    {
     "name": "stdout",
     "output_type": "stream",
     "text": [
      "115/115 [==============================] - 9s 57ms/step - loss: 0.1080 - rmse: 0.3687 - val_loss: 0.1075 - val_rmse: 0.3419\n",
      "Epoch 97/200\n",
      "115/115 [==============================] - 7s 42ms/step - loss: 0.1074 - rmse: 0.3727 - val_loss: 0.1082 - val_rmse: 0.3441\n",
      "Epoch 98/200\n",
      "115/115 [==============================] - 7s 43ms/step - loss: 0.1086 - rmse: 0.3689 - val_loss: 0.1110 - val_rmse: 0.3433\n",
      "Epoch 99/200\n",
      "110/115 [===========================>..] - ETA: 0s - loss: 0.1072 - rmse: 0.3764INFO:tensorflow:Assets written to: dnn\\12\\best_cpu\\assets\n"
     ]
    },
    {
     "name": "stderr",
     "output_type": "stream",
     "text": [
      "INFO:tensorflow:Assets written to: dnn\\12\\best_cpu\\assets\n"
     ]
    },
    {
     "name": "stdout",
     "output_type": "stream",
     "text": [
      "115/115 [==============================] - 9s 59ms/step - loss: 0.1064 - rmse: 0.3729 - val_loss: 0.1072 - val_rmse: 0.3375\n",
      "Epoch 100/200\n",
      "115/115 [==============================] - 7s 43ms/step - loss: 0.1082 - rmse: 0.3722 - val_loss: 0.1104 - val_rmse: 0.3508\n",
      "Epoch 101/200\n",
      "115/115 [==============================] - 7s 42ms/step - loss: 0.1075 - rmse: 0.3690 - val_loss: 0.1083 - val_rmse: 0.3474\n",
      "Epoch 102/200\n",
      " 83/115 [====================>.........] - ETA: 1s - loss: 0.1049 - rmse: 0.3687INFO:tensorflow:Assets written to: dnn\\12\\best_cpu\\assets\n"
     ]
    },
    {
     "name": "stderr",
     "output_type": "stream",
     "text": [
      "INFO:tensorflow:Assets written to: dnn\\12\\best_cpu\\assets\n"
     ]
    },
    {
     "name": "stdout",
     "output_type": "stream",
     "text": [
      "115/115 [==============================] - 9s 57ms/step - loss: 0.1058 - rmse: 0.3694 - val_loss: 0.1040 - val_rmse: 0.3363\n",
      "Epoch 103/200\n",
      "115/115 [==============================] - 7s 44ms/step - loss: 0.1077 - rmse: 0.3721 - val_loss: 0.1080 - val_rmse: 0.3460\n",
      "Epoch 104/200\n",
      " 83/115 [====================>.........] - ETA: 1s - loss: 0.1096 - rmse: 0.3931INFO:tensorflow:Assets written to: dnn\\12\\best_cpu\\assets\n"
     ]
    },
    {
     "name": "stderr",
     "output_type": "stream",
     "text": [
      "INFO:tensorflow:Assets written to: dnn\\12\\best_cpu\\assets\n"
     ]
    },
    {
     "name": "stdout",
     "output_type": "stream",
     "text": [
      "115/115 [==============================] - 9s 57ms/step - loss: 0.1049 - rmse: 0.3646 - val_loss: 0.1040 - val_rmse: 0.3378\n",
      "Epoch 105/200\n",
      "115/115 [==============================] - 7s 42ms/step - loss: 0.1042 - rmse: 0.3642 - val_loss: 0.1078 - val_rmse: 0.3424\n",
      "Epoch 106/200\n",
      "115/115 [==============================] - 7s 43ms/step - loss: 0.1055 - rmse: 0.3661 - val_loss: 0.1112 - val_rmse: 0.3494\n",
      "Epoch 107/200\n",
      "115/115 [==============================] - 7s 42ms/step - loss: 0.1043 - rmse: 0.3619 - val_loss: 0.1140 - val_rmse: 0.3553\n",
      "Epoch 108/200\n",
      "115/115 [==============================] - 7s 45ms/step - loss: 0.1035 - rmse: 0.3614 - val_loss: 0.1050 - val_rmse: 0.3402\n",
      "Epoch 109/200\n",
      "114/115 [============================>.] - ETA: 0s - loss: 0.1029 - rmse: 0.3596INFO:tensorflow:Assets written to: dnn\\12\\best_cpu\\assets\n"
     ]
    },
    {
     "name": "stderr",
     "output_type": "stream",
     "text": [
      "INFO:tensorflow:Assets written to: dnn\\12\\best_cpu\\assets\n"
     ]
    },
    {
     "name": "stdout",
     "output_type": "stream",
     "text": [
      "115/115 [==============================] - 9s 60ms/step - loss: 0.1028 - rmse: 0.3593 - val_loss: 0.1033 - val_rmse: 0.3381\n",
      "Epoch 110/200\n",
      "115/115 [==============================] - 7s 43ms/step - loss: 0.1020 - rmse: 0.3576 - val_loss: 0.1081 - val_rmse: 0.3583\n",
      "Epoch 111/200\n",
      "115/115 [==============================] - 7s 43ms/step - loss: 0.1050 - rmse: 0.3617 - val_loss: 0.1038 - val_rmse: 0.3303\n",
      "Epoch 112/200\n",
      "115/115 [==============================] - 8s 45ms/step - loss: 0.1044 - rmse: 0.3626 - val_loss: 0.1046 - val_rmse: 0.3479\n",
      "Epoch 113/200\n",
      "115/115 [==============================] - 7s 42ms/step - loss: 0.1003 - rmse: 0.3538 - val_loss: 0.1085 - val_rmse: 0.3495\n",
      "Epoch 114/200\n",
      "115/115 [==============================] - 7s 43ms/step - loss: 0.1021 - rmse: 0.3582 - val_loss: 0.1121 - val_rmse: 0.3525\n",
      "Epoch 115/200\n",
      "115/115 [==============================] - 7s 42ms/step - loss: 0.1039 - rmse: 0.3574 - val_loss: 0.1111 - val_rmse: 0.3459\n",
      "Epoch 116/200\n",
      "115/115 [==============================] - 7s 43ms/step - loss: 0.1042 - rmse: 0.3601 - val_loss: 0.1069 - val_rmse: 0.3357\n",
      "Epoch 117/200\n",
      " 84/115 [====================>.........] - ETA: 1s - loss: 0.1055 - rmse: 0.3733INFO:tensorflow:Assets written to: dnn\\12\\best_cpu\\assets\n"
     ]
    },
    {
     "name": "stderr",
     "output_type": "stream",
     "text": [
      "INFO:tensorflow:Assets written to: dnn\\12\\best_cpu\\assets\n"
     ]
    },
    {
     "name": "stdout",
     "output_type": "stream",
     "text": [
      "115/115 [==============================] - 9s 57ms/step - loss: 0.1032 - rmse: 0.3569 - val_loss: 0.1031 - val_rmse: 0.3384\n",
      "Epoch 118/200\n",
      "115/115 [==============================] - 7s 42ms/step - loss: 0.1039 - rmse: 0.3601 - val_loss: 0.1078 - val_rmse: 0.3399\n",
      "Epoch 119/200\n",
      "115/115 [==============================] - 7s 43ms/step - loss: 0.1026 - rmse: 0.3552 - val_loss: 0.1148 - val_rmse: 0.3418\n",
      "Epoch 120/200\n",
      "115/115 [==============================] - 7s 42ms/step - loss: 0.0994 - rmse: 0.3523 - val_loss: 0.1032 - val_rmse: 0.3323\n",
      "Epoch 121/200\n",
      "115/115 [==============================] - 7s 42ms/step - loss: 0.0992 - rmse: 0.3505 - val_loss: 0.1079 - val_rmse: 0.3361\n",
      "Epoch 122/200\n",
      "115/115 [==============================] - 7s 42ms/step - loss: 0.1002 - rmse: 0.3530 - val_loss: 0.1074 - val_rmse: 0.3360\n",
      "Epoch 123/200\n",
      "115/115 [==============================] - 7s 43ms/step - loss: 0.1026 - rmse: 0.3537 - val_loss: 0.1059 - val_rmse: 0.3379\n",
      "Epoch 124/200\n",
      "115/115 [==============================] - 7s 42ms/step - loss: 0.1023 - rmse: 0.3512 - val_loss: 0.1050 - val_rmse: 0.3256\n",
      "Epoch 125/200\n",
      "115/115 [==============================] - 7s 42ms/step - loss: 0.0997 - rmse: 0.3539 - val_loss: 0.1052 - val_rmse: 0.3353\n",
      "Epoch 126/200\n",
      "115/115 [==============================] - 7s 42ms/step - loss: 0.1018 - rmse: 0.3561 - val_loss: 0.1088 - val_rmse: 0.3514\n",
      "Epoch 127/200\n",
      "115/115 [==============================] - 7s 42ms/step - loss: 0.1004 - rmse: 0.3499 - val_loss: 0.1044 - val_rmse: 0.3360\n",
      "Epoch 128/200\n",
      " 84/115 [====================>.........] - ETA: 1s - loss: 0.0990 - rmse: 0.3547INFO:tensorflow:Assets written to: dnn\\12\\best_cpu\\assets\n"
     ]
    },
    {
     "name": "stderr",
     "output_type": "stream",
     "text": [
      "INFO:tensorflow:Assets written to: dnn\\12\\best_cpu\\assets\n"
     ]
    },
    {
     "name": "stdout",
     "output_type": "stream",
     "text": [
      "115/115 [==============================] - 9s 58ms/step - loss: 0.0984 - rmse: 0.3497 - val_loss: 0.1027 - val_rmse: 0.3379\n",
      "Epoch 129/200\n",
      "115/115 [==============================] - 7s 42ms/step - loss: 0.0997 - rmse: 0.3475 - val_loss: 0.1058 - val_rmse: 0.3333\n",
      "Epoch 130/200\n",
      "115/115 [==============================] - 7s 42ms/step - loss: 0.0987 - rmse: 0.3516 - val_loss: 0.1051 - val_rmse: 0.3461\n",
      "Epoch 131/200\n",
      "115/115 [==============================] - ETA: 0s - loss: 0.0985 - rmse: 0.3476INFO:tensorflow:Assets written to: dnn\\12\\best_cpu\\assets\n"
     ]
    },
    {
     "name": "stderr",
     "output_type": "stream",
     "text": [
      "INFO:tensorflow:Assets written to: dnn\\12\\best_cpu\\assets\n"
     ]
    },
    {
     "name": "stdout",
     "output_type": "stream",
     "text": [
      "115/115 [==============================] - 9s 57ms/step - loss: 0.0985 - rmse: 0.3476 - val_loss: 0.1027 - val_rmse: 0.3282\n",
      "Epoch 132/200\n",
      "115/115 [==============================] - 7s 44ms/step - loss: 0.0970 - rmse: 0.3425 - val_loss: 0.1094 - val_rmse: 0.3435\n",
      "Epoch 133/200\n",
      "115/115 [==============================] - 7s 42ms/step - loss: 0.0985 - rmse: 0.3461 - val_loss: 0.1052 - val_rmse: 0.3322\n",
      "Epoch 134/200\n",
      " 84/115 [====================>.........] - ETA: 1s - loss: 0.0974 - rmse: 0.3514INFO:tensorflow:Assets written to: dnn\\12\\best_cpu\\assets\n"
     ]
    },
    {
     "name": "stderr",
     "output_type": "stream",
     "text": [
      "INFO:tensorflow:Assets written to: dnn\\12\\best_cpu\\assets\n"
     ]
    },
    {
     "name": "stdout",
     "output_type": "stream",
     "text": [
      "115/115 [==============================] - 9s 57ms/step - loss: 0.0971 - rmse: 0.3443 - val_loss: 0.1016 - val_rmse: 0.3393\n",
      "Epoch 135/200\n",
      "115/115 [==============================] - 7s 43ms/step - loss: 0.0974 - rmse: 0.3442 - val_loss: 0.1092 - val_rmse: 0.3566\n",
      "Epoch 136/200\n",
      " 84/115 [====================>.........] - ETA: 1s - loss: 0.1005 - rmse: 0.3675INFO:tensorflow:Assets written to: dnn\\12\\best_cpu\\assets\n"
     ]
    },
    {
     "name": "stderr",
     "output_type": "stream",
     "text": [
      "INFO:tensorflow:Assets written to: dnn\\12\\best_cpu\\assets\n"
     ]
    },
    {
     "name": "stdout",
     "output_type": "stream",
     "text": [
      "115/115 [==============================] - 9s 59ms/step - loss: 0.0980 - rmse: 0.3481 - val_loss: 0.0991 - val_rmse: 0.3312\n",
      "Epoch 137/200\n",
      "113/115 [============================>.] - ETA: 0s - loss: 0.0963 - rmse: 0.3374INFO:tensorflow:Assets written to: dnn\\12\\best_cpu\\assets\n"
     ]
    },
    {
     "name": "stderr",
     "output_type": "stream",
     "text": [
      "INFO:tensorflow:Assets written to: dnn\\12\\best_cpu\\assets\n"
     ]
    },
    {
     "name": "stdout",
     "output_type": "stream",
     "text": [
      "115/115 [==============================] - 9s 58ms/step - loss: 0.0964 - rmse: 0.3377 - val_loss: 0.0986 - val_rmse: 0.3396\n",
      "Epoch 138/200\n",
      "115/115 [==============================] - 7s 44ms/step - loss: 0.0952 - rmse: 0.3399 - val_loss: 0.1014 - val_rmse: 0.3297\n",
      "Epoch 139/200\n",
      "115/115 [==============================] - 7s 44ms/step - loss: 0.0978 - rmse: 0.3436 - val_loss: 0.1091 - val_rmse: 0.3537\n",
      "Epoch 140/200\n",
      "115/115 [==============================] - 7s 43ms/step - loss: 0.0970 - rmse: 0.3450 - val_loss: 0.1001 - val_rmse: 0.3378\n",
      "Epoch 141/200\n",
      "115/115 [==============================] - 7s 43ms/step - loss: 0.0961 - rmse: 0.3406 - val_loss: 0.1021 - val_rmse: 0.3308\n",
      "Epoch 142/200\n",
      "115/115 [==============================] - 7s 44ms/step - loss: 0.0983 - rmse: 0.3425 - val_loss: 0.0990 - val_rmse: 0.3292\n",
      "Epoch 143/200\n",
      "115/115 [==============================] - 7s 42ms/step - loss: 0.0949 - rmse: 0.3379 - val_loss: 0.1069 - val_rmse: 0.3366\n",
      "Epoch 144/200\n",
      "115/115 [==============================] - 7s 43ms/step - loss: 0.0969 - rmse: 0.3418 - val_loss: 0.1052 - val_rmse: 0.3376\n",
      "Epoch 145/200\n",
      "108/115 [===========================>..] - ETA: 0s - loss: 0.0955 - rmse: 0.3313INFO:tensorflow:Assets written to: dnn\\12\\best_cpu\\assets\n"
     ]
    },
    {
     "name": "stderr",
     "output_type": "stream",
     "text": [
      "INFO:tensorflow:Assets written to: dnn\\12\\best_cpu\\assets\n"
     ]
    },
    {
     "name": "stdout",
     "output_type": "stream",
     "text": [
      "115/115 [==============================] - 9s 59ms/step - loss: 0.0958 - rmse: 0.3348 - val_loss: 0.0968 - val_rmse: 0.3237\n",
      "Epoch 146/200\n",
      "115/115 [==============================] - 7s 44ms/step - loss: 0.0954 - rmse: 0.3357 - val_loss: 0.0980 - val_rmse: 0.3267\n",
      "Epoch 147/200\n",
      "115/115 [==============================] - 7s 42ms/step - loss: 0.0956 - rmse: 0.3399 - val_loss: 0.1034 - val_rmse: 0.3329\n",
      "Epoch 148/200\n",
      "115/115 [==============================] - 7s 42ms/step - loss: 0.0945 - rmse: 0.3372 - val_loss: 0.1035 - val_rmse: 0.3380\n",
      "Epoch 149/200\n",
      "115/115 [==============================] - 7s 42ms/step - loss: 0.0953 - rmse: 0.3383 - val_loss: 0.1024 - val_rmse: 0.3295\n",
      "Epoch 150/200\n",
      "115/115 [==============================] - 7s 44ms/step - loss: 0.0949 - rmse: 0.3377 - val_loss: 0.1086 - val_rmse: 0.3584\n",
      "Epoch 151/200\n",
      "115/115 [==============================] - 7s 44ms/step - loss: 0.0934 - rmse: 0.3331 - val_loss: 0.1023 - val_rmse: 0.3214\n",
      "Epoch 152/200\n",
      "115/115 [==============================] - 7s 43ms/step - loss: 0.0938 - rmse: 0.3316 - val_loss: 0.1063 - val_rmse: 0.3482\n",
      "Epoch 153/200\n",
      "115/115 [==============================] - 7s 43ms/step - loss: 0.0937 - rmse: 0.3331 - val_loss: 0.0978 - val_rmse: 0.3227\n",
      "Epoch 154/200\n",
      "115/115 [==============================] - 8s 45ms/step - loss: 0.0966 - rmse: 0.3397 - val_loss: 0.1010 - val_rmse: 0.3213\n",
      "Epoch 155/200\n",
      "115/115 [==============================] - 7s 44ms/step - loss: 0.0932 - rmse: 0.3314 - val_loss: 0.1108 - val_rmse: 0.3498\n",
      "Epoch 156/200\n",
      "115/115 [==============================] - 7s 43ms/step - loss: 0.0937 - rmse: 0.3340 - val_loss: 0.1076 - val_rmse: 0.3460\n",
      "Epoch 157/200\n",
      "115/115 [==============================] - 7s 43ms/step - loss: 0.0936 - rmse: 0.3347 - val_loss: 0.1001 - val_rmse: 0.3304\n",
      "Epoch 158/200\n",
      "115/115 [==============================] - 7s 43ms/step - loss: 0.0924 - rmse: 0.3295 - val_loss: 0.0978 - val_rmse: 0.3213\n",
      "Epoch 159/200\n",
      "115/115 [==============================] - ETA: 0s - loss: 0.0896 - rmse: 0.3269INFO:tensorflow:Assets written to: dnn\\12\\best_cpu\\assets\n"
     ]
    },
    {
     "name": "stderr",
     "output_type": "stream",
     "text": [
      "INFO:tensorflow:Assets written to: dnn\\12\\best_cpu\\assets\n"
     ]
    },
    {
     "name": "stdout",
     "output_type": "stream",
     "text": [
      "115/115 [==============================] - 9s 57ms/step - loss: 0.0896 - rmse: 0.3269 - val_loss: 0.0954 - val_rmse: 0.3158\n",
      "Epoch 160/200\n",
      "115/115 [==============================] - 7s 42ms/step - loss: 0.0914 - rmse: 0.3293 - val_loss: 0.0968 - val_rmse: 0.3214\n",
      "Epoch 161/200\n",
      "115/115 [==============================] - 7s 42ms/step - loss: 0.0916 - rmse: 0.3284 - val_loss: 0.1068 - val_rmse: 0.3595\n",
      "Epoch 162/200\n",
      "115/115 [==============================] - 7s 42ms/step - loss: 0.0952 - rmse: 0.3333 - val_loss: 0.0981 - val_rmse: 0.3199\n",
      "Epoch 163/200\n",
      "115/115 [==============================] - 7s 42ms/step - loss: 0.0944 - rmse: 0.3349 - val_loss: 0.1005 - val_rmse: 0.3351\n",
      "Epoch 164/200\n",
      "115/115 [==============================] - 8s 44ms/step - loss: 0.0903 - rmse: 0.3261 - val_loss: 0.0968 - val_rmse: 0.3212\n",
      "Epoch 165/200\n",
      "115/115 [==============================] - 7s 42ms/step - loss: 0.0932 - rmse: 0.3271 - val_loss: 0.0987 - val_rmse: 0.3211\n",
      "Epoch 166/200\n",
      "115/115 [==============================] - 7s 44ms/step - loss: 0.0924 - rmse: 0.3294 - val_loss: 0.0997 - val_rmse: 0.3192\n",
      "Epoch 167/200\n",
      "115/115 [==============================] - 7s 44ms/step - loss: 0.0925 - rmse: 0.3263 - val_loss: 0.1010 - val_rmse: 0.3459\n",
      "Epoch 168/200\n",
      "115/115 [==============================] - 7s 43ms/step - loss: 0.0902 - rmse: 0.3255 - val_loss: 0.1003 - val_rmse: 0.3186\n",
      "Epoch 169/200\n",
      "115/115 [==============================] - 7s 42ms/step - loss: 0.0941 - rmse: 0.3340 - val_loss: 0.1046 - val_rmse: 0.3481\n",
      "Epoch 170/200\n",
      "115/115 [==============================] - 7s 43ms/step - loss: 0.0893 - rmse: 0.3223 - val_loss: 0.0967 - val_rmse: 0.3145\n",
      "Epoch 171/200\n",
      "115/115 [==============================] - 7s 43ms/step - loss: 0.0895 - rmse: 0.3234 - val_loss: 0.0968 - val_rmse: 0.3203\n",
      "Epoch 172/200\n",
      "115/115 [==============================] - 7s 43ms/step - loss: 0.0917 - rmse: 0.3250 - val_loss: 0.1008 - val_rmse: 0.3255\n",
      "Epoch 173/200\n",
      "115/115 [==============================] - 7s 42ms/step - loss: 0.0899 - rmse: 0.3222 - val_loss: 0.1043 - val_rmse: 0.3219\n",
      "Epoch 174/200\n",
      "115/115 [==============================] - 7s 43ms/step - loss: 0.0952 - rmse: 0.3273 - val_loss: 0.1050 - val_rmse: 0.3367\n",
      "Epoch 175/200\n",
      "115/115 [==============================] - 7s 42ms/step - loss: 0.0921 - rmse: 0.3294 - val_loss: 0.0992 - val_rmse: 0.3269\n",
      "Epoch 176/200\n",
      "115/115 [==============================] - 7s 45ms/step - loss: 0.0924 - rmse: 0.3358 - val_loss: 0.0971 - val_rmse: 0.3222\n",
      "Epoch 177/200\n",
      "115/115 [==============================] - 8s 47ms/step - loss: 0.0892 - rmse: 0.3218 - val_loss: 0.1037 - val_rmse: 0.3291\n",
      "Epoch 178/200\n",
      "115/115 [==============================] - 8s 45ms/step - loss: 0.0903 - rmse: 0.3242 - val_loss: 0.1014 - val_rmse: 0.3260\n",
      "Epoch 179/200\n",
      "115/115 [==============================] - 7s 44ms/step - loss: 0.0906 - rmse: 0.3256 - val_loss: 0.0973 - val_rmse: 0.3165\n"
     ]
    },
    {
     "data": {
      "text/plain": [
       "<keras.src.callbacks.History at 0x23356fb7410>"
      ]
     },
     "execution_count": 22,
     "metadata": {},
     "output_type": "execute_result"
    }
   ],
   "source": [
    "model.fit(train_ds, validation_data=val_ds, epochs=200, callbacks=model_callbacks)"
   ]
  },
  {
   "cell_type": "code",
   "execution_count": 23,
   "id": "68103b41-98fb-46f6-baa1-28d7a84fbc07",
   "metadata": {},
   "outputs": [
    {
     "name": "stdout",
     "output_type": "stream",
     "text": [
      "WARNING:tensorflow:From c:\\Users\\Alex\\AppData\\Local\\Programs\\Python\\Python311\\Lib\\site-packages\\keras\\src\\saving\\legacy\\saved_model\\load.py:107: The name tf.gfile.Exists is deprecated. Please use tf.io.gfile.exists instead.\n",
      "\n"
     ]
    },
    {
     "name": "stderr",
     "output_type": "stream",
     "text": [
      "WARNING:tensorflow:From c:\\Users\\Alex\\AppData\\Local\\Programs\\Python\\Python311\\Lib\\site-packages\\keras\\src\\saving\\legacy\\saved_model\\load.py:107: The name tf.gfile.Exists is deprecated. Please use tf.io.gfile.exists instead.\n",
      "\n"
     ]
    }
   ],
   "source": [
    "model = tf.keras.models.load_model(model_path)"
   ]
  },
  {
   "cell_type": "code",
   "execution_count": 24,
   "id": "2902c365-5ac8-45d8-8b73-048017ea249a",
   "metadata": {},
   "outputs": [
    {
     "name": "stdout",
     "output_type": "stream",
     "text": [
      "134/134 [==============================] - 7s 48ms/step - loss: 0.0877 - rmse: 0.3193\n"
     ]
    }
   ],
   "source": [
    "train_metrics = model.evaluate(ds.batch(BATCH_SIZE).prefetch(tf.data.AUTOTUNE))"
   ]
  },
  {
   "cell_type": "code",
   "execution_count": 25,
   "id": "a9c62cc1-d1e3-4f6b-ad6a-99619eb948ca",
   "metadata": {},
   "outputs": [],
   "source": [
    "def generate_test_data():\n",
    "    for (i, data) in test_csv.iterrows():\n",
    "        yield data[feat_cols]\n",
    "\n",
    "\n",
    "def prep_test_data():\n",
    "    return tf.data.Dataset.from_generator(\n",
    "        generate_test_data, \n",
    "        output_signature=tf.TensorSpec(shape=(n_feats), dtype=tf.float32)\n",
    "    )"
   ]
  },
  {
   "cell_type": "code",
   "execution_count": 26,
   "id": "75cf880f-21ce-42cc-bc9e-c3ed6fb31680",
   "metadata": {},
   "outputs": [
    {
     "name": "stdout",
     "output_type": "stream",
     "text": [
      "58/58 [==============================] - 1s 21ms/step\n"
     ]
    },
    {
     "data": {
      "text/html": [
       "<div>\n",
       "<style scoped>\n",
       "    .dataframe tbody tr th:only-of-type {\n",
       "        vertical-align: middle;\n",
       "    }\n",
       "\n",
       "    .dataframe tbody tr th {\n",
       "        vertical-align: top;\n",
       "    }\n",
       "\n",
       "    .dataframe thead th {\n",
       "        text-align: right;\n",
       "    }\n",
       "</style>\n",
       "<table border=\"1\" class=\"dataframe\">\n",
       "  <thead>\n",
       "    <tr style=\"text-align: right;\">\n",
       "      <th></th>\n",
       "      <th>u_x</th>\n",
       "      <th>u_y</th>\n",
       "      <th>u_z</th>\n",
       "      <th>p</th>\n",
       "    </tr>\n",
       "  </thead>\n",
       "  <tbody>\n",
       "    <tr>\n",
       "      <th>0</th>\n",
       "      <td>410.491489</td>\n",
       "      <td>0.032219</td>\n",
       "      <td>0.335554</td>\n",
       "      <td>100378.855488</td>\n",
       "    </tr>\n",
       "    <tr>\n",
       "      <th>1</th>\n",
       "      <td>410.330740</td>\n",
       "      <td>0.101628</td>\n",
       "      <td>-0.070368</td>\n",
       "      <td>100008.853789</td>\n",
       "    </tr>\n",
       "    <tr>\n",
       "      <th>2</th>\n",
       "      <td>410.667191</td>\n",
       "      <td>-0.034974</td>\n",
       "      <td>0.044498</td>\n",
       "      <td>100018.734863</td>\n",
       "    </tr>\n",
       "    <tr>\n",
       "      <th>3</th>\n",
       "      <td>412.305513</td>\n",
       "      <td>-4.186017</td>\n",
       "      <td>-8.036711</td>\n",
       "      <td>100979.736268</td>\n",
       "    </tr>\n",
       "    <tr>\n",
       "      <th>4</th>\n",
       "      <td>410.169659</td>\n",
       "      <td>2.644421</td>\n",
       "      <td>-5.074940</td>\n",
       "      <td>100893.132631</td>\n",
       "    </tr>\n",
       "    <tr>\n",
       "      <th>...</th>\n",
       "      <td>...</td>\n",
       "      <td>...</td>\n",
       "      <td>...</td>\n",
       "      <td>...</td>\n",
       "    </tr>\n",
       "    <tr>\n",
       "      <th>3651</th>\n",
       "      <td>410.344329</td>\n",
       "      <td>0.029326</td>\n",
       "      <td>-0.171527</td>\n",
       "      <td>100058.659013</td>\n",
       "    </tr>\n",
       "    <tr>\n",
       "      <th>3652</th>\n",
       "      <td>410.377901</td>\n",
       "      <td>0.205342</td>\n",
       "      <td>0.469247</td>\n",
       "      <td>100054.545156</td>\n",
       "    </tr>\n",
       "    <tr>\n",
       "      <th>3653</th>\n",
       "      <td>405.690230</td>\n",
       "      <td>-10.395499</td>\n",
       "      <td>1.949544</td>\n",
       "      <td>102946.001675</td>\n",
       "    </tr>\n",
       "    <tr>\n",
       "      <th>3654</th>\n",
       "      <td>409.296526</td>\n",
       "      <td>0.072955</td>\n",
       "      <td>1.758138</td>\n",
       "      <td>100174.975668</td>\n",
       "    </tr>\n",
       "    <tr>\n",
       "      <th>3655</th>\n",
       "      <td>413.767920</td>\n",
       "      <td>1.640411</td>\n",
       "      <td>-5.484768</td>\n",
       "      <td>100689.935218</td>\n",
       "    </tr>\n",
       "  </tbody>\n",
       "</table>\n",
       "<p>3656 rows × 4 columns</p>\n",
       "</div>"
      ],
      "text/plain": [
       "             u_x        u_y       u_z              p\n",
       "0     410.491489   0.032219  0.335554  100378.855488\n",
       "1     410.330740   0.101628 -0.070368  100008.853789\n",
       "2     410.667191  -0.034974  0.044498  100018.734863\n",
       "3     412.305513  -4.186017 -8.036711  100979.736268\n",
       "4     410.169659   2.644421 -5.074940  100893.132631\n",
       "...          ...        ...       ...            ...\n",
       "3651  410.344329   0.029326 -0.171527  100058.659013\n",
       "3652  410.377901   0.205342  0.469247  100054.545156\n",
       "3653  405.690230 -10.395499  1.949544  102946.001675\n",
       "3654  409.296526   0.072955  1.758138  100174.975668\n",
       "3655  413.767920   1.640411 -5.484768  100689.935218\n",
       "\n",
       "[3656 rows x 4 columns]"
      ]
     },
     "execution_count": 26,
     "metadata": {},
     "output_type": "execute_result"
    }
   ],
   "source": [
    "test_ds = prep_test_data().batch(BATCH_SIZE).prefetch(tf.data.AUTOTUNE)\n",
    "test_outputs = model.predict(test_ds)\n",
    "\n",
    "mean, std = train_csv[target_cols].mean(), train_csv[target_cols].std()\n",
    "\n",
    "submission_df = pd.DataFrame(test_outputs, columns=target_cols)\n",
    "submission_df = submission_df * std + mean\n",
    "submission_df"
   ]
  },
  {
   "cell_type": "code",
   "execution_count": 27,
   "id": "a290921c-0f90-4078-b696-518a8ee8fa05",
   "metadata": {},
   "outputs": [],
   "source": [
    "submission_df.to_csv(submission_path, index=False)"
   ]
  },
  {
   "cell_type": "markdown",
   "id": "c5393c8b",
   "metadata": {},
   "source": [
    "# Результат"
   ]
  },
  {
   "attachments": {},
   "cell_type": "markdown",
   "id": "19f98247",
   "metadata": {},
   "source": [
    "* До требуемого результата модель обучилась за **~50** эпох (**0.13** MSE)\n",
    "* За **~160** эпох модель обучилась до ошибки MSE **0.08**"
   ]
  }
 ],
 "metadata": {
  "kernelspec": {
   "display_name": "Python 3 (ipykernel)",
   "language": "python",
   "name": "python3"
  },
  "language_info": {
   "codemirror_mode": {
    "name": "ipython",
    "version": 3
   },
   "file_extension": ".py",
   "mimetype": "text/x-python",
   "name": "python",
   "nbconvert_exporter": "python",
   "pygments_lexer": "ipython3",
   "version": "3.11.5"
  }
 },
 "nbformat": 4,
 "nbformat_minor": 5
}
