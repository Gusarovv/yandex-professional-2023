{
 "cells": [
  {
   "attachments": {},
   "cell_type": "markdown",
   "metadata": {},
   "source": [
    "## Задание №2"
   ]
  },
  {
   "attachments": {},
   "cell_type": "markdown",
   "metadata": {},
   "source": [
    "Лиза живёт на первом этаже 12-этажного дома. Мама испекла печенье и попросила Лизу разнести его соседям. В доме есть лифт, на котором Лиза катается с этажа на этаж. Ей нужно посетить все этажи ровно по одному разу и вернуться обратно на первый этаж. Поскольку Лиза очень любит лифты, она хочет провести в лифте максимальное возможное время (время путешествия с этажа $x$ на этаж $y$ положим равным $|x - y|$). \n",
    "\n",
    "**Вопрос:** Сколькими способами Лиза может построить свой маршрут так, чтобы он занял максимальное возможное время?\n",
    "\n",
    "**Формат вывода:** В ответ напишите одно число — количество возможных замкнутых маршрутов, проходящих по каждому этажу ровно 1 раз, и занимающих максимальное возможное время."
   ]
  },
  {
   "cell_type": "code",
   "execution_count": 2,
   "metadata": {},
   "outputs": [
    {
     "data": {
      "text/plain": [
       "86400"
      ]
     },
     "execution_count": 2,
     "metadata": {},
     "output_type": "execute_result"
    }
   ],
   "source": [
    "import itertools\n",
    "\n",
    "def calculate_lift_time(route):\n",
    "    return sum(abs(route[i]-route[i-1]) for i in range(1, len(route)))\n",
    "\n",
    "floors = list(range(2, 13))\n",
    "max_time = 0\n",
    "max_time_routes = 0\n",
    "\n",
    "for route in itertools.permutations(floors):\n",
    "    total_route = [1] + list(route) + [1]\n",
    "    \n",
    "    lift_time = calculate_lift_time(total_route)\n",
    "\n",
    "    if lift_time > max_time:\n",
    "        max_time = lift_time\n",
    "        max_time_routes = 1\n",
    "    elif lift_time == max_time:\n",
    "        max_time_routes += 1\n",
    "\n",
    "max_time_routes"
   ]
  }
 ],
 "metadata": {
  "kernelspec": {
   "display_name": "Python 3",
   "language": "python",
   "name": "python3"
  },
  "language_info": {
   "codemirror_mode": {
    "name": "ipython",
    "version": 3
   },
   "file_extension": ".py",
   "mimetype": "text/x-python",
   "name": "python",
   "nbconvert_exporter": "python",
   "pygments_lexer": "ipython3",
   "version": "3.11.5"
  },
  "orig_nbformat": 4
 },
 "nbformat": 4,
 "nbformat_minor": 2
}
