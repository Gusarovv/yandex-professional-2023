{
 "cells": [
  {
   "attachments": {},
   "cell_type": "markdown",
   "metadata": {},
   "source": [
    "## Задание №1"
   ]
  },
  {
   "attachments": {},
   "cell_type": "markdown",
   "metadata": {},
   "source": [
    "Сложность математического вычисления может быть выражена в FLOPS (floating point operations). FLOP используется как единица измерения вычислений, таких как одно вычитание, сложение, умножение, деление чисел и т. д. Например, для векторов $a, b \\in R^n$ и скаляров $c, d \\in R$:\n",
    "\n",
    "- $a + b$ требует $n$ FLOPS для $n$ поэлементных сложений;\n",
    "- $c \\cdot a$ требует $n$ FLOPS для $n$ поэлементных умножений;\n",
    "- $c \\cdot d \\cdot a$ требует $n + 1$ операцию, если вычислять выражение как $(c \\cdot d) \\cdot a$, и $2n$ операций, если как $c \\cdot (d \\cdot a)$: в таких случаях выбирается оптимальный порядок.\n",
    "\n",
    "Стоит понимать, что операция может занимать и $0$ FLOPS: например, операция присвоения значения элемента вектора.\n",
    "\n",
    "Посчитайте минимальное количество FLOPS для реализации выражения $ABc + DEFg$, где \n",
    "\n",
    "- $A \\in R^{m \\times n}$,\n",
    "- $B \\in R^{n \\times p}$\n",
    "- $c \\in R^{p}$\n",
    "- $D \\in R^{m \\times k}$\n",
    "- $E \\in R^{k \\times l}$\n",
    "- $F \\in R^{l \\times p}$\n",
    "- $g \\in R^{p}$\n",
    "\n",
    "для $m = 10$, $n = 7$, $p = 4$, $k = 3$, $l = 8$. Все значения в матрицах $A, B, D, E, F$ и векторах $c, g$ отличны от нуля."
   ]
  },
  {
   "cell_type": "code",
   "execution_count": 2,
   "metadata": {},
   "outputs": [
    {
     "data": {
      "text/plain": [
       "300"
      ]
     },
     "execution_count": 2,
     "metadata": {},
     "output_type": "execute_result"
    }
   ],
   "source": [
    "m = 10\n",
    "n = 7\n",
    "p = 4\n",
    "k = 3\n",
    "l = 8\n",
    "\n",
    "def compute_elementwise_sum_ops(n, m=1):\n",
    "    return n * m\n",
    "\n",
    "def compute_matmul_ops(n, k, m=1):\n",
    "    return n * m * (k + k - 1)\n",
    "\n",
    "flops_ABc = min(compute_matmul_ops(m, n, p) + compute_matmul_ops(m, p), \n",
    "                compute_matmul_ops(n, p) + compute_matmul_ops(m, n))\n",
    "\n",
    "flops_DEFg_cases = [\n",
    "    compute_matmul_ops(m, k, l) + compute_matmul_ops(m, l, p) + compute_matmul_ops(m, p),\n",
    "    compute_matmul_ops(l, p) + compute_matmul_ops(m, k, l) + compute_matmul_ops(m, l),\n",
    "    compute_matmul_ops(k, l, p) + compute_matmul_ops(m, k, l) + compute_matmul_ops(m, l),\n",
    "    compute_matmul_ops(k, l, p) + compute_matmul_ops(k, p) + compute_matmul_ops(m, k),\n",
    "    compute_matmul_ops(k, p) + compute_matmul_ops(l, k) + compute_matmul_ops(m, k)\n",
    "]\n",
    "flops_DEFg = min(flops_DEFg_cases)\n",
    "\n",
    "flops_final_sum = compute_elementwise_sum_ops(m)\n",
    "\n",
    "total_flops = flops_ABc + flops_DEFg + flops_final_sum\n",
    "total_flops"
   ]
  }
 ],
 "metadata": {
  "kernelspec": {
   "display_name": "Python 3",
   "language": "python",
   "name": "python3"
  },
  "language_info": {
   "codemirror_mode": {
    "name": "ipython",
    "version": 3
   },
   "file_extension": ".py",
   "mimetype": "text/x-python",
   "name": "python",
   "nbconvert_exporter": "python",
   "pygments_lexer": "ipython3",
   "version": "3.11.5"
  },
  "orig_nbformat": 4
 },
 "nbformat": 4,
 "nbformat_minor": 2
}
