{
 "cells": [
  {
   "cell_type": "markdown",
   "metadata": {},
   "source": [
    "## Задание №3"
   ]
  },
  {
   "attachments": {},
   "cell_type": "markdown",
   "metadata": {},
   "source": [
    "Несимметричный восьмигранник со значениями от **1** до **8** на его гранях кидают до тех пор, пока не выпадет число **5**. Вероятность выпадения каждой грани пропорциональна числу на этой грани. \n",
    "\n",
    "**Вопрос:** Найдите вероятность того, что кубик бросят не менее 3 раз.\n",
    " "
   ]
  },
  {
   "cell_type": "code",
   "execution_count": 1,
   "metadata": {},
   "outputs": [
    {
     "name": "stdout",
     "output_type": "stream",
     "text": [
      "961/1296\n"
     ]
    }
   ],
   "source": [
    "from fractions import Fraction\n",
    "\n",
    "p_not_5 = Fraction(31, 36)\n",
    "p_least_3_rolls = p_not_5**2\n",
    "print(p_least_3_rolls)"
   ]
  }
 ],
 "metadata": {
  "kernelspec": {
   "display_name": "Python 3",
   "language": "python",
   "name": "python3"
  },
  "language_info": {
   "codemirror_mode": {
    "name": "ipython",
    "version": 3
   },
   "file_extension": ".py",
   "mimetype": "text/x-python",
   "name": "python",
   "nbconvert_exporter": "python",
   "pygments_lexer": "ipython3",
   "version": "3.11.5"
  },
  "orig_nbformat": 4
 },
 "nbformat": 4,
 "nbformat_minor": 2
}
